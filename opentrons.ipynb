{
 "cells": [
  {
   "cell_type": "code",
   "execution_count": 1,
   "id": "f5c26124",
   "metadata": {},
   "outputs": [],
   "source": [
    "import ipywidgets as widgets\n",
    "import sys\n",
    "import os\n",
    "import logging\n",
    "logger = logging.getLogger()\n",
    "sys.path.append(os.path.join(os.getcwd(), 'lib'))\n",
    "from opentrons_settings import settings\n",
    "sys.path.append(os.path.join(os.getcwd(), 'gui_lib'))\n",
    "from opentrons_gui import gui\n",
    "settingsObject = settings()\n",
    "guiObject = gui(settingsObject, logger)"
   ]
  },
  {
   "cell_type": "code",
   "execution_count": 9,
   "id": "369a86cc",
   "metadata": {},
   "outputs": [
    {
     "data": {
      "application/vnd.jupyter.widget-view+json": {
       "model_id": "f2bf69709d6e4ee0933f33e43ec71824",
       "version_major": 2,
       "version_minor": 0
      },
      "text/plain": [
       "VBox(children=(GridspecLayout(children=(Button(description='10', layout=Layout(grid_area='widget001', width='a…"
      ]
     },
     "metadata": {},
     "output_type": "display_data"
    }
   ],
   "source": [
    "widgets.VBox(children=[guiObject.grid_widget])"
   ]
  },
  {
   "cell_type": "code",
   "execution_count": 3,
   "id": "8487b70a",
   "metadata": {},
   "outputs": [],
   "source": [
    "from opentrons import protocol_api"
   ]
  },
  {
   "cell_type": "code",
   "execution_count": 4,
   "id": "76c4c519",
   "metadata": {},
   "outputs": [],
   "source": [
    "metadata = {\n",
    "    'apiLevel': '2.13',\n",
    "    'protocolName': 'soak plate preparation',\n",
    "    'description': '''This protocol transfers fragment crystallization solutions\n",
    "                   from a 96-well plate into the a 96-well plates of the \n",
    "                   respective marked crystal positions.''',\n",
    "    'author': 'Tobias Krojer'\n",
    "    }"
   ]
  },
  {
   "cell_type": "code",
   "execution_count": 5,
   "id": "ee3b9e52",
   "metadata": {},
   "outputs": [],
   "source": [
    "def get_tiprack_positions():\n",
    "    tiprackPositions = [\n",
    "         'A1',  'B1',  'C1',  'D1',  'E1',  'F1',  'G1',  'H1',\n",
    "         'A2',  'B2',  'C2',  'D2',  'E2',  'F2',  'G2',  'H2',\n",
    "         'A3',  'B3',  'C3',  'D3',  'E3',  'F3',  'G3',  'H3',\n",
    "         'A4',  'B4',  'C4',  'D4',  'E4',  'F4',  'G4',  'H4',\n",
    "         'A5',  'B5',  'C5',  'D5',  'E5',  'F5',  'G5',  'H5',\n",
    "         'A6',  'B6',  'C6',  'D6',  'E6',  'F6',  'G6',  'H6',\n",
    "         'A7',  'B7',  'C7',  'D7',  'E7',  'F7',  'G7',  'H7',\n",
    "         'A8',  'B8',  'C8',  'D8',  'E8',  'F8',  'G8',  'H8',\n",
    "         'A9',  'B9',  'C9',  'D9',  'E9',  'F9',  'G9',  'H9',\n",
    "        'A10', 'B10', 'C10', 'D10', 'E10', 'F10', 'G10', 'H10',\n",
    "        'A11', 'B11', 'C11', 'D11', 'E11', 'F11', 'G11', 'H11',\n",
    "        'A12', 'B12', 'C12', 'D12', 'E12', 'F12', 'G12', 'H12'\n",
    "    ]\n",
    "    return tiprack_positions\n",
    "\n",
    "def calculate_number_of_tips():\n",
    "    print('hi')"
   ]
  },
  {
   "cell_type": "code",
   "execution_count": 6,
   "id": "5410cecc",
   "metadata": {},
   "outputs": [],
   "source": [
    "def run(protocol: protocol_api.ProtocolContext):\n",
    "    tiprack1 = None\n",
    "    tiprack2 = None\n",
    "    compound1 = None\n",
    "    compound2 = None\n",
    "    target = None\n",
    "#    tiprack = protocol.load_labware('opentrons_96_tiprack_10ul', 11)\n",
    "#    source = protocol.load_labware('nunc_96_wellplate_250ul', 1)\n",
    "#    target = protocol.load_labware('nunc_96_wellplate_250ul', 2)\n",
    "\n",
    "    if settingsObject.opentrons_ready:\n",
    "        print('cool, here we go...')\n",
    "    else:\n",
    "        print('not ready; please check logs')"
   ]
  },
  {
   "cell_type": "code",
   "execution_count": 7,
   "id": "2472097e",
   "metadata": {},
   "outputs": [],
   "source": [
    "#def check():\n",
    "#    enough_tips = False\n",
    "#    compound_plate_exists = False\n",
    "#    target_plate_exists = False\n",
    "#    \n",
    "#    \n",
    "#    print('checking stuff')\n",
    "#    tips_available = \n",
    "#    tips_required =\n",
    "    \n"
   ]
  },
  {
   "cell_type": "code",
   "execution_count": 8,
   "id": "09100062",
   "metadata": {},
   "outputs": [],
   "source": [
    "run_button = widgets.Button(description='RUN', layout=widgets.Layout(width=\"auto\"),\n",
    "                                        style={'button_color': 'red'})\n",
    "check_button = widgets.Button(description='CHECK', layout=widgets.Layout(width=\"auto\"),\n",
    "                                        style={'button_color': 'lightblue'})\n",
    "run_button.on_click(run)\n",
    "#check_button.on_click(check)\n",
    "guiObject.grid_widget[8, :] = check_button\n",
    "guiObject.grid_widget[9, :] = run_button"
   ]
  },
  {
   "cell_type": "code",
   "execution_count": null,
   "id": "68f56811",
   "metadata": {},
   "outputs": [],
   "source": []
  }
 ],
 "metadata": {
  "kernelspec": {
   "display_name": "Python 3 (ipykernel)",
   "language": "python",
   "name": "python3"
  },
  "language_info": {
   "codemirror_mode": {
    "name": "ipython",
    "version": 3
   },
   "file_extension": ".py",
   "mimetype": "text/x-python",
   "name": "python",
   "nbconvert_exporter": "python",
   "pygments_lexer": "ipython3",
   "version": "3.8.15"
  }
 },
 "nbformat": 4,
 "nbformat_minor": 5
}
