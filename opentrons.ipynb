{
 "cells": [
  {
   "cell_type": "code",
   "execution_count": 1,
   "id": "21774d1f",
   "metadata": {},
   "outputs": [
    {
     "data": {
      "application/vnd.jupyter.widget-view+json": {
       "model_id": "65b8d59c611e493fadbad9f45869ad3b",
       "version_major": 2,
       "version_minor": 0
      },
      "text/plain": [
       "VBox(children=(GridspecLayout(children=(Button(description='10', layout=Layout(grid_area='widget001', width='a…"
      ]
     },
     "metadata": {},
     "output_type": "display_data"
    }
   ],
   "source": [
    "import ipywidgets as widgets\n",
    "import sys\n",
    "import os\n",
    "import logging\n",
    "logger = logging.getLogger()\n",
    "sys.path.append(os.path.join(os.getcwd(), 'lib'))\n",
    "from settings import settings\n",
    "sys.path.append(os.path.join(os.getcwd(), 'gui_lib'))\n",
    "from opentrons_gui import gui\n",
    "settingsObject = settings()\n",
    "guiObject = gui(settingsObject, logger)\n",
    "widgets.VBox(children=[guiObject.grid_widget])"
   ]
  },
  {
   "cell_type": "code",
   "execution_count": 2,
   "id": "4b3786a8",
   "metadata": {},
   "outputs": [],
   "source": [
    "from opentrons import protocol_api"
   ]
  },
  {
   "cell_type": "code",
   "execution_count": 3,
   "id": "081cec5c",
   "metadata": {},
   "outputs": [],
   "source": [
    "metadata = {\n",
    "    'apiLevel': '2.13',\n",
    "    'protocolName': 'soak plate preparation',\n",
    "    'description': '''This protocol transfers fragment crystallization solutions\n",
    "                   from a 96-well plate into the a 96-well plates of the \n",
    "                   respective marked crystal positions.''',\n",
    "    'author': 'Tobias Krojer'\n",
    "    }"
   ]
  },
  {
   "cell_type": "code",
   "execution_count": 4,
   "id": "38b4468b",
   "metadata": {},
   "outputs": [],
   "source": [
    "def run(protocol: protocol_api.ProtocolContext):\n",
    "    print('hallo')"
   ]
  },
  {
   "cell_type": "code",
   "execution_count": 5,
   "id": "69a7f79f",
   "metadata": {},
   "outputs": [],
   "source": [
    "run_button = widgets.Button(description='RUN', layout=widgets.Layout(width=\"auto\"),\n",
    "                                        style={'button_color': 'red'})\n",
    "run_button.on_click(run)\n",
    "guiObject.grid_widget[8, :] = run_button"
   ]
  }
 ],
 "metadata": {
  "kernelspec": {
   "display_name": "Python 3 (ipykernel)",
   "language": "python",
   "name": "python3"
  },
  "language_info": {
   "codemirror_mode": {
    "name": "ipython",
    "version": 3
   },
   "file_extension": ".py",
   "mimetype": "text/x-python",
   "name": "python",
   "nbconvert_exporter": "python",
   "pygments_lexer": "ipython3",
   "version": "3.8.15"
  }
 },
 "nbformat": 4,
 "nbformat_minor": 5
}
