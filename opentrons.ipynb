{
 "cells": [
  {
   "cell_type": "code",
   "execution_count": 1,
   "id": "c8f2f41a",
   "metadata": {},
   "outputs": [],
   "source": [
    "#%%html\n",
    "#<style>.rackstyle{color: black; font-size: 200%; font-style: bold}"
   ]
  },
  {
   "cell_type": "code",
   "execution_count": 2,
   "id": "f5c26124",
   "metadata": {},
   "outputs": [],
   "source": [
    "import ipywidgets as widgets\n",
    "import sys\n",
    "import os\n",
    "import logging\n",
    "logger = logging.getLogger()\n",
    "#sys.path.append(os.path.join(os.getcwd(), 'lib'))\n",
    "sys.path.append('/Users/tobkro/MAXIV/FragMAX/LP3/FragMAX_crystal_preparation/lib')\n",
    "from opentrons_settings import settings\n",
    "sys.path.append('/Users/tobkro/MAXIV/FragMAX/LP3/FragMAX_crystal_preparation/gui_lib')\n",
    "#sys.path.append(os.path.join(os.getcwd(), 'gui_lib'))\n",
    "from opentrons_gui import gui\n",
    "settingsObject = settings()\n",
    "guiObject = gui(settingsObject, logger)"
   ]
  },
  {
   "cell_type": "code",
   "execution_count": 3,
   "id": "3be11132",
   "metadata": {},
   "outputs": [],
   "source": [
    "#for key in settingsObject.rack_dict:\n",
    "#    settingsObject.rack_dict[key].add_class('rackstyle')"
   ]
  },
  {
   "cell_type": "code",
   "execution_count": 4,
   "id": "bffd01cd",
   "metadata": {},
   "outputs": [],
   "source": [
    "host_dir = \"\"\n",
    "robo_dir = \"\"\n",
    "deck_dict = {\n",
    "    1: None,\n",
    "    2: None,\n",
    "    3: None,\n",
    "    4: None,\n",
    "    5: None,\n",
    "    6: None,\n",
    "    7: None,\n",
    "    8: None,\n",
    "    9: None,\n",
    "    10: None,\n",
    "    11: None\n",
    "}"
   ]
  },
  {
   "cell_type": "code",
   "execution_count": 5,
   "id": "0e62d442",
   "metadata": {},
   "outputs": [],
   "source": [
    "# assign plate positions in deck_dict\n",
    "# make safety copies of csv on robot\n",
    "# os.system scp csv from host to robot\n",
    "# run main program\n",
    "# save csvs (use csv module if pandas module outdated)\n",
    "# os.system ssh and make csv backups on host machine\n",
    "# os.system scp updated csvs to host machine"
   ]
  },
  {
   "cell_type": "code",
   "execution_count": 6,
   "id": "369a86cc",
   "metadata": {},
   "outputs": [
    {
     "data": {
      "application/vnd.jupyter.widget-view+json": {
       "model_id": "e594b4d474184d86bb82820b4a4c78e6",
       "version_major": 2,
       "version_minor": 0
      },
      "text/plain": [
       "VBox(children=(GridspecLayout(children=(Button(description='10', layout=Layout(grid_area='widget001', height='…"
      ]
     },
     "metadata": {},
     "output_type": "display_data"
    }
   ],
   "source": [
    "widgets.VBox(children=[guiObject.grid_widget])"
   ]
  },
  {
   "cell_type": "code",
   "execution_count": 7,
   "id": "8487b70a",
   "metadata": {},
   "outputs": [],
   "source": [
    "from opentrons import protocol_api"
   ]
  },
  {
   "cell_type": "code",
   "execution_count": 8,
   "id": "76c4c519",
   "metadata": {},
   "outputs": [],
   "source": [
    "metadata = {\n",
    "    'apiLevel': '2.13',\n",
    "    'protocolName': 'soak plate preparation',\n",
    "    'description': '''This protocol transfers fragment crystallization solutions\n",
    "                   from a 96-well plate into the a 96-well plates of the \n",
    "                   respective marked crystal positions.''',\n",
    "    'author': 'Tobias Krojer'\n",
    "    }"
   ]
  },
  {
   "cell_type": "code",
   "execution_count": 9,
   "id": "ee3b9e52",
   "metadata": {},
   "outputs": [],
   "source": [
    "def get_tiprack_positions():\n",
    "    tiprackPositions = [\n",
    "         'A1',  'B1',  'C1',  'D1',  'E1',  'F1',  'G1',  'H1',\n",
    "         'A2',  'B2',  'C2',  'D2',  'E2',  'F2',  'G2',  'H2',\n",
    "         'A3',  'B3',  'C3',  'D3',  'E3',  'F3',  'G3',  'H3',\n",
    "         'A4',  'B4',  'C4',  'D4',  'E4',  'F4',  'G4',  'H4',\n",
    "         'A5',  'B5',  'C5',  'D5',  'E5',  'F5',  'G5',  'H5',\n",
    "         'A6',  'B6',  'C6',  'D6',  'E6',  'F6',  'G6',  'H6',\n",
    "         'A7',  'B7',  'C7',  'D7',  'E7',  'F7',  'G7',  'H7',\n",
    "         'A8',  'B8',  'C8',  'D8',  'E8',  'F8',  'G8',  'H8',\n",
    "         'A9',  'B9',  'C9',  'D9',  'E9',  'F9',  'G9',  'H9',\n",
    "        'A10', 'B10', 'C10', 'D10', 'E10', 'F10', 'G10', 'H10',\n",
    "        'A11', 'B11', 'C11', 'D11', 'E11', 'F11', 'G11', 'H11',\n",
    "        'A12', 'B12', 'C12', 'D12', 'E12', 'F12', 'G12', 'H12'\n",
    "    ]\n",
    "    return tiprack_positions\n",
    "\n",
    "def calculate_number_of_tips():\n",
    "    print('hi')"
   ]
  },
  {
   "cell_type": "code",
   "execution_count": 10,
   "id": "5410cecc",
   "metadata": {},
   "outputs": [],
   "source": [
    "def run(protocol: protocol_api.ProtocolContext):\n",
    "    tiprack1 = None\n",
    "    tiprack2 = None\n",
    "    compound1 = None\n",
    "    compound2 = None\n",
    "    target = None\n",
    "#    tiprack = protocol.load_labware('opentrons_96_tiprack_10ul', 11)\n",
    "#    source = protocol.load_labware('nunc_96_wellplate_250ul', 1)\n",
    "#    target = protocol.load_labware('nunc_96_wellplate_250ul', 2)\n",
    "\n",
    "    if settingsObject.opentrons_ready:\n",
    "        print('cool, here we go...')\n",
    "    else:\n",
    "        print('not ready; please check logs')"
   ]
  },
  {
   "cell_type": "code",
   "execution_count": 11,
   "id": "2472097e",
   "metadata": {},
   "outputs": [],
   "source": [
    "#def check():\n",
    "#    enough_tips = False\n",
    "#    compound_plate_exists = False\n",
    "#    target_plate_exists = False\n",
    "#    \n",
    "#    \n",
    "#    print('checking stuff')\n",
    "#    tips_available = \n",
    "#    tips_required =\n",
    "    \n"
   ]
  },
  {
   "cell_type": "code",
   "execution_count": 12,
   "id": "09100062",
   "metadata": {},
   "outputs": [],
   "source": [
    "run_button = widgets.Button(description='RUN', layout=widgets.Layout(width=\"auto\"),\n",
    "                                        style={'button_color': 'red'})\n",
    "check_button = widgets.Button(description='CHECK', layout=widgets.Layout(width=\"auto\"),\n",
    "                                        style={'button_color': 'lightblue'})\n",
    "run_button.on_click(run)\n",
    "#check_button.on_click(check)\n",
    "guiObject.grid_widget[8, :] = check_button\n",
    "guiObject.grid_widget[9, :] = run_button"
   ]
  },
  {
   "cell_type": "code",
   "execution_count": 13,
   "id": "68f56811",
   "metadata": {},
   "outputs": [],
   "source": [
    "#guiObject.button_01.add_class('myclass')"
   ]
  },
  {
   "cell_type": "code",
   "execution_count": 14,
   "id": "d75cd3e6",
   "metadata": {},
   "outputs": [],
   "source": [
    "import ipywidgets as widgets\n",
    "from tkinter import Tk, filedialog\n",
    "from IPython.display import display,clear_output"
   ]
  },
  {
   "cell_type": "code",
   "execution_count": 15,
   "id": "0d63ff72",
   "metadata": {},
   "outputs": [],
   "source": [
    "def select_project_directory(b):\n",
    "    clear_output()  # Button is deleted after it is clicked.\n",
    "    root = Tk()\n",
    "    root.withdraw()  # Hide the main window.\n",
    "    root.call('wm', 'attributes', '.', '-topmost', True)  # Raise the root to the top of all windows.\n",
    "    b.folder = filedialog.askdirectory(title=\"Select project directory\")\n",
    "    project_folder = b.folder"
   ]
  },
  {
   "cell_type": "code",
   "execution_count": 16,
   "id": "0839aeca",
   "metadata": {},
   "outputs": [],
   "source": [
    "def clear_scan_value(b):\n",
    "    scan_value.value = ''\n",
    "    \n",
    "def set_scan_value_button_01(b):\n",
    "    button_01.description = scan_value.value\n",
    "    scan_value.value = ''\n",
    "\n",
    "def set_scan_value_button_02(b):\n",
    "    button_02.description = scan_value.value\n",
    "    scan_value.value = ''\n",
    "\n",
    "def set_scan_value_button_03(b):\n",
    "    button_03.description = scan_value.value\n",
    "    scan_value.value = ''\n",
    "\n",
    "def set_scan_value_button_04(b):\n",
    "    button_04.description = scan_value.value\n",
    "    scan_value.value = ''\n",
    "\n",
    "def set_scan_value_button_05(b):\n",
    "    button_05.description = scan_value.value\n",
    "    scan_value.value = ''\n",
    "\n",
    "def set_scan_value_button_06(b):\n",
    "    button_06.description = scan_value.value\n",
    "    scan_value.value = ''\n",
    "\n",
    "def set_scan_value_button_07(b):\n",
    "    button_07.description = scan_value.value\n",
    "    scan_value.value = ''\n",
    "\n",
    "def set_scan_value_button_08(b):\n",
    "    button_08.description = scan_value.value\n",
    "    scan_value.value = ''\n",
    "\n",
    "def set_scan_value_button_09(b):\n",
    "    button_09.description = scan_value.value\n",
    "    scan_value.value = ''\n",
    "\n",
    "def set_scan_value_button_10(b):\n",
    "    button_10.description = scan_value.value\n",
    "    scan_value.value = ''\n",
    "\n",
    "def set_scan_value_button_11(b):\n",
    "    button_11.description = scan_value.value\n",
    "    scan_value.value = ''\n",
    "    \n",
    "def reset_all_fields(b):\n",
    "    scan_value.value = ''\n",
    "    button_01.description = '01'\n",
    "    button_02.description = '02'\n",
    "    button_03.description = '03'\n",
    "    button_04.description = '04'\n",
    "    button_05.description = '05'\n",
    "    button_06.description = '06'\n",
    "    button_07.description = '07'\n",
    "    button_08.description = '08'\n",
    "    button_09.description = '09'\n",
    "    button_10.description = '10'\n",
    "    button_11.description = '11'\n",
    "       \n",
    "grid_widget = widgets.GridspecLayout(7, 3)\n",
    "button_01 = widgets.Button(description='01', layout=widgets.Layout(width=\"auto\"))\n",
    "button_02 = widgets.Button(description='02', layout=widgets.Layout(width=\"auto\"))\n",
    "button_03 = widgets.Button(description='03', layout=widgets.Layout(width=\"auto\"))\n",
    "button_04 = widgets.Button(description='04', layout=widgets.Layout(width=\"auto\"))\n",
    "button_05 = widgets.Button(description='05', layout=widgets.Layout(width=\"auto\"))\n",
    "button_06 = widgets.Button(description='06', layout=widgets.Layout(width=\"auto\"))\n",
    "button_07 = widgets.Button(description='07', layout=widgets.Layout(width=\"auto\"))\n",
    "button_08 = widgets.Button(description='08', layout=widgets.Layout(width=\"auto\"))\n",
    "button_09 = widgets.Button(description='09', layout=widgets.Layout(width=\"auto\"))\n",
    "button_10 = widgets.Button(description='10', layout=widgets.Layout(width=\"auto\"))\n",
    "button_11 = widgets.Button(description='11', layout=widgets.Layout(width=\"auto\"))\n",
    "\n",
    "button_01.on_click(set_scan_value_button_01)\n",
    "button_02.on_click(set_scan_value_button_02)\n",
    "button_03.on_click(set_scan_value_button_03)\n",
    "button_04.on_click(set_scan_value_button_04)\n",
    "button_05.on_click(set_scan_value_button_05)\n",
    "button_06.on_click(set_scan_value_button_06)\n",
    "button_07.on_click(set_scan_value_button_07)\n",
    "button_08.on_click(set_scan_value_button_08)\n",
    "button_09.on_click(set_scan_value_button_09)\n",
    "button_10.on_click(set_scan_value_button_10)\n",
    "button_11.on_click(set_scan_value_button_11)\n",
    "\n",
    "grid_widget[0, 0] = button_10\n",
    "grid_widget[0, 1] = button_11\n",
    "grid_widget[1, 0] = button_07\n",
    "grid_widget[1, 1] = button_08\n",
    "grid_widget[1, 2] = button_09\n",
    "grid_widget[2, 0] = button_04\n",
    "grid_widget[2, 1] = button_05\n",
    "grid_widget[2, 2] = button_06\n",
    "grid_widget[3, 0] = button_01\n",
    "grid_widget[3, 1] = button_02\n",
    "grid_widget[3, 2] = button_03\n",
    "\n",
    "grid_widget[5, 0] = widgets.Label(\"scan\", layout=widgets.Layout(display=\"flex\", justify_content=\"center\"))\n",
    "scan_value = widgets.Text(value='', layout=widgets.Layout(width=\"auto\"))\n",
    "grid_widget[5, 1] = scan_value\n",
    "clear_scan = widgets.Button(description='clear', layout=widgets.Layout(width=\"auto\"))\n",
    "clear_scan.on_click(clear_scan_value)\n",
    "grid_widget[5, 2] = clear_scan\n",
    "\n",
    "reset_button = widgets.Button(description='reset', layout=widgets.Layout(width=\"auto\"))\n",
    "reset_button.on_click(reset_all_fields)\n",
    "grid_widget[6, 0:] = reset_button"
   ]
  },
  {
   "cell_type": "code",
   "execution_count": 17,
   "id": "d4cdc2ce",
   "metadata": {},
   "outputs": [
    {
     "data": {
      "application/vnd.jupyter.widget-view+json": {
       "model_id": "82fbc003ec4743338423e1892d508139",
       "version_major": 2,
       "version_minor": 0
      },
      "text/plain": [
       "GridspecLayout(children=(Button(description='10', layout=Layout(grid_area='widget001', width='auto'), style=Bu…"
      ]
     },
     "metadata": {},
     "output_type": "display_data"
    }
   ],
   "source": [
    "display(grid_widget)"
   ]
  }
 ],
 "metadata": {
  "kernelspec": {
   "display_name": "Python 3 (ipykernel)",
   "language": "python",
   "name": "python3"
  },
  "language_info": {
   "codemirror_mode": {
    "name": "ipython",
    "version": 3
   },
   "file_extension": ".py",
   "mimetype": "text/x-python",
   "name": "python",
   "nbconvert_exporter": "python",
   "pygments_lexer": "ipython3",
   "version": "3.8.15"
  }
 },
 "nbformat": 4,
 "nbformat_minor": 5
}
