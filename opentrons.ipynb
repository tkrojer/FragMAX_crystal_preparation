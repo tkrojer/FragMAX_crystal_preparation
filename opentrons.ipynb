{
 "cells": [
  {
   "cell_type": "code",
   "execution_count": 1,
   "id": "c8f2f41a",
   "metadata": {},
   "outputs": [],
   "source": [
    "#%%html\n",
    "#<style>.rackstyle{color: black; font-size: 200%; font-style: bold}"
   ]
  },
  {
   "cell_type": "code",
   "execution_count": 2,
   "id": "f5c26124",
   "metadata": {},
   "outputs": [],
   "source": [
    "import ipywidgets as widgets\n",
    "import sys\n",
    "import os\n",
    "import logging\n",
    "logger = logging.getLogger()\n",
    "#sys.path.append(os.path.join(os.getcwd(), 'lib'))\n",
    "sys.path.append('/Users/tobkro/MAXIV/FragMAX/LP3/FragMAX_crystal_preparation/lib')\n",
    "from opentrons_settings import settings\n",
    "sys.path.append('/Users/tobkro/MAXIV/FragMAX/LP3/FragMAX_crystal_preparation/gui_lib')\n",
    "#sys.path.append(os.path.join(os.getcwd(), 'gui_lib'))\n",
    "from opentrons_gui import gui\n",
    "settingsObject = settings()\n",
    "guiObject = gui(settingsObject, logger)"
   ]
  },
  {
   "cell_type": "code",
   "execution_count": 3,
   "id": "3be11132",
   "metadata": {},
   "outputs": [],
   "source": [
    "#for key in settingsObject.rack_dict:\n",
    "#    settingsObject.rack_dict[key].add_class('rackstyle')"
   ]
  },
  {
   "cell_type": "code",
   "execution_count": 4,
   "id": "bffd01cd",
   "metadata": {},
   "outputs": [],
   "source": [
    "host_dir = \"\"\n",
    "robo_dir = \"\"\n",
    "deck_dict = {\n",
    "    1: None,\n",
    "    2: None,\n",
    "    3: None,\n",
    "    4: None,\n",
    "    5: None,\n",
    "    6: None,\n",
    "    7: None,\n",
    "    8: None,\n",
    "    9: None,\n",
    "    10: None,\n",
    "    11: None\n",
    "}"
   ]
  },
  {
   "cell_type": "code",
   "execution_count": 5,
   "id": "0e62d442",
   "metadata": {},
   "outputs": [],
   "source": [
    "# assign plate positions in deck_dict\n",
    "# make safety copies of csv on robot\n",
    "# os.system scp csv from host to robot\n",
    "# run main program\n",
    "# save csvs (use csv module if pandas module outdated)\n",
    "# os.system ssh and make csv backups on host machine\n",
    "# os.system scp updated csvs to host machine"
   ]
  },
  {
   "cell_type": "code",
   "execution_count": 6,
   "id": "369a86cc",
   "metadata": {},
   "outputs": [
    {
     "data": {
      "application/vnd.jupyter.widget-view+json": {
       "model_id": "d8a111bab9ef4a66a8db2cf51080d935",
       "version_major": 2,
       "version_minor": 0
      },
      "text/plain": [
       "VBox(children=(GridspecLayout(children=(Button(description='10', layout=Layout(grid_area='widget001', height='…"
      ]
     },
     "metadata": {},
     "output_type": "display_data"
    }
   ],
   "source": [
    "widgets.VBox(children=[guiObject.grid_widget])"
   ]
  },
  {
   "cell_type": "code",
   "execution_count": 7,
   "id": "8487b70a",
   "metadata": {},
   "outputs": [],
   "source": [
    "from opentrons import protocol_api"
   ]
  },
  {
   "cell_type": "code",
   "execution_count": 8,
   "id": "76c4c519",
   "metadata": {},
   "outputs": [],
   "source": [
    "metadata = {\n",
    "    'apiLevel': '2.13',\n",
    "    'protocolName': 'soak plate preparation',\n",
    "    'description': '''This protocol transfers fragment crystallization solutions\n",
    "                   from a 96-well plate into the a 96-well plates of the \n",
    "                   respective marked crystal positions.''',\n",
    "    'author': 'Tobias Krojer'\n",
    "    }"
   ]
  },
  {
   "cell_type": "code",
   "execution_count": 9,
   "id": "ee3b9e52",
   "metadata": {},
   "outputs": [],
   "source": [
    "def get_tiprack_positions():\n",
    "    tiprackPositions = [\n",
    "         'A1',  'B1',  'C1',  'D1',  'E1',  'F1',  'G1',  'H1',\n",
    "         'A2',  'B2',  'C2',  'D2',  'E2',  'F2',  'G2',  'H2',\n",
    "         'A3',  'B3',  'C3',  'D3',  'E3',  'F3',  'G3',  'H3',\n",
    "         'A4',  'B4',  'C4',  'D4',  'E4',  'F4',  'G4',  'H4',\n",
    "         'A5',  'B5',  'C5',  'D5',  'E5',  'F5',  'G5',  'H5',\n",
    "         'A6',  'B6',  'C6',  'D6',  'E6',  'F6',  'G6',  'H6',\n",
    "         'A7',  'B7',  'C7',  'D7',  'E7',  'F7',  'G7',  'H7',\n",
    "         'A8',  'B8',  'C8',  'D8',  'E8',  'F8',  'G8',  'H8',\n",
    "         'A9',  'B9',  'C9',  'D9',  'E9',  'F9',  'G9',  'H9',\n",
    "        'A10', 'B10', 'C10', 'D10', 'E10', 'F10', 'G10', 'H10',\n",
    "        'A11', 'B11', 'C11', 'D11', 'E11', 'F11', 'G11', 'H11',\n",
    "        'A12', 'B12', 'C12', 'D12', 'E12', 'F12', 'G12', 'H12'\n",
    "    ]\n",
    "    return tiprack_positions\n",
    "\n",
    "def calculate_number_of_tips():\n",
    "    print('hi')"
   ]
  },
  {
   "cell_type": "code",
   "execution_count": 10,
   "id": "5410cecc",
   "metadata": {},
   "outputs": [],
   "source": [
    "def run(protocol: protocol_api.ProtocolContext):\n",
    "    tiprack1 = None\n",
    "    tiprack2 = None\n",
    "    compound1 = None\n",
    "    compound2 = None\n",
    "    target = None\n",
    "#    tiprack = protocol.load_labware('opentrons_96_tiprack_10ul', 11)\n",
    "#    source = protocol.load_labware('nunc_96_wellplate_250ul', 1)\n",
    "#    target = protocol.load_labware('nunc_96_wellplate_250ul', 2)\n",
    "\n",
    "    if settingsObject.opentrons_ready:\n",
    "        print('cool, here we go...')\n",
    "    else:\n",
    "        print('not ready; please check logs')"
   ]
  },
  {
   "cell_type": "code",
   "execution_count": 11,
   "id": "2472097e",
   "metadata": {},
   "outputs": [],
   "source": [
    "#def check():\n",
    "#    enough_tips = False\n",
    "#    compound_plate_exists = False\n",
    "#    target_plate_exists = False\n",
    "#    \n",
    "#    \n",
    "#    print('checking stuff')\n",
    "#    tips_available = \n",
    "#    tips_required =\n",
    "    \n"
   ]
  },
  {
   "cell_type": "code",
   "execution_count": 12,
   "id": "09100062",
   "metadata": {},
   "outputs": [],
   "source": [
    "run_button = widgets.Button(description='RUN', layout=widgets.Layout(width=\"auto\"),\n",
    "                                        style={'button_color': 'red'})\n",
    "check_button = widgets.Button(description='CHECK', layout=widgets.Layout(width=\"auto\"),\n",
    "                                        style={'button_color': 'lightblue'})\n",
    "run_button.on_click(run)\n",
    "#check_button.on_click(check)\n",
    "guiObject.grid_widget[8, :] = check_button\n",
    "guiObject.grid_widget[9, :] = run_button"
   ]
  },
  {
   "cell_type": "code",
   "execution_count": 13,
   "id": "68f56811",
   "metadata": {},
   "outputs": [],
   "source": [
    "#guiObject.button_01.add_class('myclass')"
   ]
  },
  {
   "cell_type": "code",
   "execution_count": 14,
   "id": "d75cd3e6",
   "metadata": {},
   "outputs": [],
   "source": [
    "import ipywidgets as widgets\n",
    "from tkinter import Tk, filedialog\n",
    "from IPython.display import display,clear_output"
   ]
  },
  {
   "cell_type": "code",
   "execution_count": 15,
   "id": "0d63ff72",
   "metadata": {},
   "outputs": [],
   "source": [
    "def select_project_directory(b):\n",
    "    clear_output()  # Button is deleted after it is clicked.\n",
    "    root = Tk()\n",
    "    root.withdraw()  # Hide the main window.\n",
    "    root.call('wm', 'attributes', '.', '-topmost', True)  # Raise the root to the top of all windows.\n",
    "    b.folder = filedialog.askdirectory(title=\"Select project directory\")\n",
    "    project_folder = b.folder"
   ]
  },
  {
   "cell_type": "code",
   "execution_count": 16,
   "id": "0839aeca",
   "metadata": {},
   "outputs": [],
   "source": [
    "def clear_scan_value(b):\n",
    "    scan_value.value = ''\n",
    "    \n",
    "def set_scan_value_button_01(b):\n",
    "    button_01.description = scan_value.value\n",
    "    scan_value.value = ''\n",
    "\n",
    "def set_scan_value_button_02(b):\n",
    "    button_02.description = scan_value.value\n",
    "    scan_value.value = ''\n",
    "\n",
    "def set_scan_value_button_03(b):\n",
    "    button_03.description = scan_value.value\n",
    "    scan_value.value = ''\n",
    "\n",
    "def set_scan_value_button_04(b):\n",
    "    button_04.description = scan_value.value\n",
    "    scan_value.value = ''\n",
    "\n",
    "def set_scan_value_button_05(b):\n",
    "    button_05.description = scan_value.value\n",
    "    scan_value.value = ''\n",
    "\n",
    "def set_scan_value_button_06(b):\n",
    "    button_06.description = scan_value.value\n",
    "    scan_value.value = ''\n",
    "\n",
    "def set_scan_value_button_07(b):\n",
    "    button_07.description = scan_value.value\n",
    "    scan_value.value = ''\n",
    "\n",
    "def set_scan_value_button_08(b):\n",
    "    button_08.description = scan_value.value\n",
    "    scan_value.value = ''\n",
    "\n",
    "def set_scan_value_button_09(b):\n",
    "    button_09.description = scan_value.value\n",
    "    scan_value.value = ''\n",
    "\n",
    "def set_scan_value_button_10(b):\n",
    "    button_10.description = scan_value.value\n",
    "    scan_value.value = ''\n",
    "\n",
    "def set_scan_value_button_11(b):\n",
    "    button_11.description = scan_value.value\n",
    "    scan_value.value = ''\n",
    "    \n",
    "def reset_all_fields(b):\n",
    "    scan_value.value = ''\n",
    "    button_01.description = '01'\n",
    "    button_02.description = '02'\n",
    "    button_03.description = '03'\n",
    "    button_04.description = '04'\n",
    "    button_05.description = '05'\n",
    "    button_06.description = '06'\n",
    "    button_07.description = '07'\n",
    "    button_08.description = '08'\n",
    "    button_09.description = '09'\n",
    "    button_10.description = '10'\n",
    "    button_11.description = '11'\n",
    "       \n",
    "grid_widget = widgets.GridspecLayout(7, 3)\n",
    "button_01 = widgets.Button(description='01', layout=widgets.Layout(width=\"auto\"))\n",
    "button_02 = widgets.Button(description='02', layout=widgets.Layout(width=\"auto\"))\n",
    "button_03 = widgets.Button(description='03', layout=widgets.Layout(width=\"auto\"))\n",
    "button_04 = widgets.Button(description='04', layout=widgets.Layout(width=\"auto\"))\n",
    "button_05 = widgets.Button(description='05', layout=widgets.Layout(width=\"auto\"))\n",
    "button_06 = widgets.Button(description='06', layout=widgets.Layout(width=\"auto\"))\n",
    "button_07 = widgets.Button(description='07', layout=widgets.Layout(width=\"auto\"))\n",
    "button_08 = widgets.Button(description='08', layout=widgets.Layout(width=\"auto\"))\n",
    "button_09 = widgets.Button(description='09', layout=widgets.Layout(width=\"auto\"))\n",
    "button_10 = widgets.Button(description='10', layout=widgets.Layout(width=\"auto\"))\n",
    "button_11 = widgets.Button(description='11', layout=widgets.Layout(width=\"auto\"))\n",
    "\n",
    "button_01.on_click(set_scan_value_button_01)\n",
    "button_02.on_click(set_scan_value_button_02)\n",
    "button_03.on_click(set_scan_value_button_03)\n",
    "button_04.on_click(set_scan_value_button_04)\n",
    "button_05.on_click(set_scan_value_button_05)\n",
    "button_06.on_click(set_scan_value_button_06)\n",
    "button_07.on_click(set_scan_value_button_07)\n",
    "button_08.on_click(set_scan_value_button_08)\n",
    "button_09.on_click(set_scan_value_button_09)\n",
    "button_10.on_click(set_scan_value_button_10)\n",
    "button_11.on_click(set_scan_value_button_11)\n",
    "\n",
    "grid_widget[0, 0] = button_10\n",
    "grid_widget[0, 1] = button_11\n",
    "grid_widget[1, 0] = button_07\n",
    "grid_widget[1, 1] = button_08\n",
    "grid_widget[1, 2] = button_09\n",
    "grid_widget[2, 0] = button_04\n",
    "grid_widget[2, 1] = button_05\n",
    "grid_widget[2, 2] = button_06\n",
    "grid_widget[3, 0] = button_01\n",
    "grid_widget[3, 1] = button_02\n",
    "grid_widget[3, 2] = button_03\n",
    "\n",
    "grid_widget[5, 0] = widgets.Label(\"scan\", layout=widgets.Layout(display=\"flex\", justify_content=\"center\"))\n",
    "scan_value = widgets.Text(value='', layout=widgets.Layout(width=\"auto\"))\n",
    "grid_widget[5, 1] = scan_value\n",
    "clear_scan = widgets.Button(description='clear', layout=widgets.Layout(width=\"auto\"))\n",
    "clear_scan.on_click(clear_scan_value)\n",
    "grid_widget[5, 2] = clear_scan\n",
    "\n",
    "reset_button = widgets.Button(description='reset', layout=widgets.Layout(width=\"auto\"))\n",
    "reset_button.on_click(reset_all_fields)\n",
    "grid_widget[6, 0:] = reset_button"
   ]
  },
  {
   "cell_type": "code",
   "execution_count": 17,
   "id": "d4cdc2ce",
   "metadata": {},
   "outputs": [
    {
     "data": {
      "application/vnd.jupyter.widget-view+json": {
       "model_id": "0b9ac36bc0894670a03ba19ea31a8741",
       "version_major": 2,
       "version_minor": 0
      },
      "text/plain": [
       "GridspecLayout(children=(Button(description='10', layout=Layout(grid_area='widget001', width='auto'), style=Bu…"
      ]
     },
     "metadata": {},
     "output_type": "display_data"
    }
   ],
   "source": [
    "display(grid_widget)"
   ]
  },
  {
   "cell_type": "code",
   "execution_count": 18,
   "id": "4866f184",
   "metadata": {},
   "outputs": [
    {
     "data": {
      "text/html": [
       "<style>.container { width:100% !important; }</style>"
      ],
      "text/plain": [
       "<IPython.core.display.HTML object>"
      ]
     },
     "metadata": {},
     "output_type": "display_data"
    }
   ],
   "source": [
    "from IPython.core.display import display, HTML\n",
    "display(HTML(\"<style>.container { width:100% !important; }</style>\"))"
   ]
  },
  {
   "cell_type": "code",
   "execution_count": 19,
   "id": "87c528ab",
   "metadata": {},
   "outputs": [
    {
     "data": {
      "application/vnd.jupyter.widget-view+json": {
       "model_id": "0b9ac36bc0894670a03ba19ea31a8741",
       "version_major": 2,
       "version_minor": 0
      },
      "text/plain": [
       "GridspecLayout(children=(Button(description='10', layout=Layout(grid_area='widget001', width='auto'), style=Bu…"
      ]
     },
     "metadata": {},
     "output_type": "display_data"
    }
   ],
   "source": [
    "display(grid_widget)"
   ]
  },
  {
   "cell_type": "code",
   "execution_count": null,
   "id": "11cc055d",
   "metadata": {},
   "outputs": [],
   "source": []
  }
 ],
 "metadata": {
  "kernelspec": {
   "display_name": "Python 3 (ipykernel)",
   "language": "python",
   "name": "python3"
  },
  "language_info": {
   "codemirror_mode": {
    "name": "ipython",
    "version": 3
   },
   "file_extension": ".py",
   "mimetype": "text/x-python",
   "name": "python",
   "nbconvert_exporter": "python",
   "pygments_lexer": "ipython3",
   "version": "3.8.15"
  },
  "widgets": {
   "application/vnd.jupyter.widget-state+json": {
    "state": {
     "00a50285745e4bf7b1f32110961512e8": {
      "model_module": "@jupyter-widgets/base",
      "model_module_version": "1.2.0",
      "model_name": "LayoutModel",
      "state": {}
     },
     "00fe714460814196a9de406bb415b2a5": {
      "model_module": "@jupyter-widgets/base",
      "model_module_version": "1.2.0",
      "model_name": "LayoutModel",
      "state": {
       "grid_area": "widget017",
       "width": "auto"
      }
     },
     "010f813c61864df0a010aec9ce114eb5": {
      "model_module": "@jupyter-widgets/base",
      "model_module_version": "1.2.0",
      "model_name": "LayoutModel",
      "state": {
       "grid_area": "widget015",
       "width": "auto"
      }
     },
     "024e1d8be5044abdb66f839e3cda29d7": {
      "model_module": "@jupyter-widgets/base",
      "model_module_version": "1.2.0",
      "model_name": "LayoutModel",
      "state": {
       "grid_area": "widget014",
       "width": "auto"
      }
     },
     "0419cbc74d244887a2dbf8c42e8f04f8": {
      "model_module": "@jupyter-widgets/base",
      "model_module_version": "1.2.0",
      "model_name": "LayoutModel",
      "state": {
       "grid_area": "widget007",
       "width": "auto"
      }
     },
     "051ed4629f52497f8f99016414f8dc65": {
      "model_module": "@jupyter-widgets/base",
      "model_module_version": "1.2.0",
      "model_name": "LayoutModel",
      "state": {
       "grid_area": "widget001",
       "height": "80px",
       "width": "auto"
      }
     },
     "0921690980c7413a91338197f1205772": {
      "model_module": "@jupyter-widgets/base",
      "model_module_version": "1.2.0",
      "model_name": "LayoutModel",
      "state": {
       "grid_area": "widget005",
       "height": "80px",
       "width": "auto"
      }
     },
     "0ba7069e277c41da9c3de59458b58849": {
      "model_module": "@jupyter-widgets/controls",
      "model_module_version": "1.5.0",
      "model_name": "ButtonModel",
      "state": {
       "description": "04",
       "layout": "IPY_MODEL_e22f49b49f3c4586979678d998899070",
       "style": "IPY_MODEL_b61247b60a434ad685961a164c506d13"
      }
     },
     "157469a5d8864d18b93bf9d9ddd2fb3f": {
      "model_module": "@jupyter-widgets/controls",
      "model_module_version": "1.5.0",
      "model_name": "ButtonModel",
      "state": {
       "description": "01",
       "layout": "IPY_MODEL_89d26da301db4b56be9ac3f3d070565c",
       "style": "IPY_MODEL_9dca7072118c4f8f81c5e7f97912c218"
      }
     },
     "192370a88b5a4244b63249da8a9ecab8": {
      "model_module": "@jupyter-widgets/base",
      "model_module_version": "1.2.0",
      "model_name": "LayoutModel",
      "state": {
       "grid_area": "widget019",
       "width": "auto"
      }
     },
     "23a49dcfc8ab40269f6fc70f0e3b89cc": {
      "model_module": "@jupyter-widgets/controls",
      "model_module_version": "1.5.0",
      "model_name": "ButtonModel",
      "state": {
       "description": "10",
       "layout": "IPY_MODEL_051ed4629f52497f8f99016414f8dc65",
       "style": "IPY_MODEL_806af7e91e6a45abbc68e505cd6ce33b"
      }
     },
     "241c4f0e427447299c18ab7c680a0ad4": {
      "model_module": "@jupyter-widgets/base",
      "model_module_version": "1.2.0",
      "model_name": "LayoutModel",
      "state": {
       "grid_area": "widget011",
       "width": "auto"
      }
     },
     "277a657e0a8c413790f8d73170645cea": {
      "model_module": "@jupyter-widgets/controls",
      "model_module_version": "1.5.0",
      "model_name": "ButtonStyleModel",
      "state": {}
     },
     "2c93ccd3bc484c8ab267b9547cf1a7e3": {
      "model_module": "@jupyter-widgets/base",
      "model_module_version": "1.2.0",
      "model_name": "LayoutModel",
      "state": {
       "grid_area": "widget004",
       "width": "auto"
      }
     },
     "2c992f2afa4b4a07b5cd8b966d056af2": {
      "model_module": "@jupyter-widgets/controls",
      "model_module_version": "1.5.0",
      "model_name": "GridBoxModel",
      "state": {
       "children": [
        "IPY_MODEL_ba4ecd77a2714c37bd5188414ddac5cd",
        "IPY_MODEL_b7405199cdc143fc98d76f1339aa5352",
        "IPY_MODEL_fde2500b926c4cb68ddd2477a9684b4f",
        "IPY_MODEL_bb702e50866f4dc0a36e7a4fd5427464",
        "IPY_MODEL_343a22154b104803b355af4d31d82d14",
        "IPY_MODEL_908d80ac7ce7416a94bee04372b810ae",
        "IPY_MODEL_f6589b196e584b26a67c93d781e48608",
        "IPY_MODEL_6955a3b28eb848739c76175bb0dbc167",
        "IPY_MODEL_157469a5d8864d18b93bf9d9ddd2fb3f",
        "IPY_MODEL_436be0c4d2ff4850906a4cd7da024116",
        "IPY_MODEL_68b763e2810d4a0bb356eef88a7677f1",
        "IPY_MODEL_ccb7d9d1e47547f99da8f96f35616ec1",
        "IPY_MODEL_830017cfc02c4a9a92977e82b67e0994",
        "IPY_MODEL_4f84518628834e1ab9bea52ef4b393aa",
        "IPY_MODEL_71250a81367748d4a8c1bab09fb424e3"
       ],
       "layout": "IPY_MODEL_dad86d2c317245d6ab9a47560b207961"
      }
     },
     "2ec9113acda741288664e61f63e79af3": {
      "model_module": "@jupyter-widgets/controls",
      "model_module_version": "1.5.0",
      "model_name": "ButtonModel",
      "state": {
       "description": "RUN",
       "layout": "IPY_MODEL_810bb82673a748979da4b513fcc112a4",
       "style": "IPY_MODEL_d13eac35878d40368d01517713bbe419"
      }
     },
     "2ffb9e3490d14910b6f8892d02ed1708": {
      "model_module": "@jupyter-widgets/base",
      "model_module_version": "1.2.0",
      "model_name": "LayoutModel",
      "state": {
       "grid_area": "widget015",
       "width": "auto"
      }
     },
     "33a53cbd600b4adca6bbeef84b2ffb91": {
      "model_module": "@jupyter-widgets/controls",
      "model_module_version": "1.5.0",
      "model_name": "ButtonStyleModel",
      "state": {
       "button_color": "lightgray"
      }
     },
     "343a22154b104803b355af4d31d82d14": {
      "model_module": "@jupyter-widgets/controls",
      "model_module_version": "1.5.0",
      "model_name": "ButtonModel",
      "state": {
       "description": "09",
       "layout": "IPY_MODEL_66e38b9b6e8b43c2855d7e04d4caab6b",
       "style": "IPY_MODEL_d51803a4621a46e1baceca107a4c544e"
      }
     },
     "37215d98cef84f919f95d23d9d7209d0": {
      "model_module": "@jupyter-widgets/controls",
      "model_module_version": "1.5.0",
      "model_name": "ButtonStyleModel",
      "state": {
       "button_color": "lightblue"
      }
     },
     "3bcfd74fd83c40a4a13d7be22304e6ff": {
      "model_module": "@jupyter-widgets/base",
      "model_module_version": "1.2.0",
      "model_name": "LayoutModel",
      "state": {
       "grid_area": "widget002",
       "width": "auto"
      }
     },
     "3dcb84c767f246fcad73427d611068d6": {
      "model_module": "@jupyter-widgets/controls",
      "model_module_version": "1.5.0",
      "model_name": "TextModel",
      "state": {
       "layout": "IPY_MODEL_cfeb01f9c28b4fccaec3717d205fa31f",
       "style": "IPY_MODEL_cfdfddb6fb6d4b11b7666ef78b5ce345",
       "value": "grgr"
      }
     },
     "4132507b248840aeba1b363ef3de181b": {
      "model_module": "@jupyter-widgets/controls",
      "model_module_version": "1.5.0",
      "model_name": "ButtonStyleModel",
      "state": {}
     },
     "4197d5c5e4554e40949eb6a7d6093867": {
      "model_module": "@jupyter-widgets/base",
      "model_module_version": "1.2.0",
      "model_name": "LayoutModel",
      "state": {
       "grid_area": "widget018",
       "width": "auto"
      }
     },
     "436be0c4d2ff4850906a4cd7da024116": {
      "model_module": "@jupyter-widgets/controls",
      "model_module_version": "1.5.0",
      "model_name": "ButtonModel",
      "state": {
       "description": "02",
       "layout": "IPY_MODEL_7885401144dd420dae24bf97f32bdb45",
       "style": "IPY_MODEL_e2c4847b0d0848bdb97c2ff09505b1c0"
      }
     },
     "467f5ba3418743d3882eba27a91ebb09": {
      "model_module": "@jupyter-widgets/base",
      "model_module_version": "1.2.0",
      "model_name": "LayoutModel",
      "state": {
       "grid_area": "widget006",
       "width": "auto"
      }
     },
     "49d5b09f639a4ba1b30d03af9f93350c": {
      "model_module": "@jupyter-widgets/controls",
      "model_module_version": "1.5.0",
      "model_name": "ButtonStyleModel",
      "state": {
       "button_color": "lightgray"
      }
     },
     "4f84518628834e1ab9bea52ef4b393aa": {
      "model_module": "@jupyter-widgets/controls",
      "model_module_version": "1.5.0",
      "model_name": "ButtonModel",
      "state": {
       "description": "clear",
       "layout": "IPY_MODEL_024e1d8be5044abdb66f839e3cda29d7",
       "style": "IPY_MODEL_c418d06b7a924e91a00062cadcf8e5e4"
      }
     },
     "5123d082ddb04a40a8017dbd70873497": {
      "model_module": "@jupyter-widgets/controls",
      "model_module_version": "1.5.0",
      "model_name": "ButtonModel",
      "state": {
       "description": "05",
       "layout": "IPY_MODEL_c48d53ccd140445cad8da019fe1ae94b",
       "style": "IPY_MODEL_effc5cf5945f476d8031479a38d919c6"
      }
     },
     "51c7fa4564be47f9a34d68272c42cf85": {
      "model_module": "@jupyter-widgets/controls",
      "model_module_version": "1.5.0",
      "model_name": "ButtonStyleModel",
      "state": {}
     },
     "55f85bbfae064fd399c5a355fefaf093": {
      "model_module": "@jupyter-widgets/base",
      "model_module_version": "1.2.0",
      "model_name": "LayoutModel",
      "state": {
       "grid_area": "widget008",
       "height": "80px",
       "width": "auto"
      }
     },
     "5610f6a99db4432c93735840e6f12cac": {
      "model_module": "@jupyter-widgets/controls",
      "model_module_version": "1.5.0",
      "model_name": "ButtonModel",
      "state": {
       "description": "02",
       "layout": "IPY_MODEL_801be4fc73fe4431bfbd4cac801aa2c7",
       "style": "IPY_MODEL_ce23b8be2e6f43a98373a3a5f2dcf547"
      }
     },
     "66e38b9b6e8b43c2855d7e04d4caab6b": {
      "model_module": "@jupyter-widgets/base",
      "model_module_version": "1.2.0",
      "model_name": "LayoutModel",
      "state": {
       "grid_area": "widget005",
       "width": "auto"
      }
     },
     "6777b614fe4f473fb4fbd3e06b9b90b9": {
      "model_module": "@jupyter-widgets/controls",
      "model_module_version": "1.5.0",
      "model_name": "ButtonStyleModel",
      "state": {}
     },
     "68199500f53841b1b42e18d152d62478": {
      "model_module": "@jupyter-widgets/controls",
      "model_module_version": "1.5.0",
      "model_name": "ButtonStyleModel",
      "state": {}
     },
     "68b763e2810d4a0bb356eef88a7677f1": {
      "model_module": "@jupyter-widgets/controls",
      "model_module_version": "1.5.0",
      "model_name": "ButtonModel",
      "state": {
       "description": "03",
       "layout": "IPY_MODEL_241c4f0e427447299c18ab7c680a0ad4",
       "style": "IPY_MODEL_a543dd6eb18945738d4a7f206feb7310"
      }
     },
     "6955a3b28eb848739c76175bb0dbc167": {
      "model_module": "@jupyter-widgets/controls",
      "model_module_version": "1.5.0",
      "model_name": "ButtonModel",
      "state": {
       "description": "06",
       "layout": "IPY_MODEL_acf5ae675ae643adb03cc75d7ac6c71c",
       "style": "IPY_MODEL_51c7fa4564be47f9a34d68272c42cf85"
      }
     },
     "71250a81367748d4a8c1bab09fb424e3": {
      "model_module": "@jupyter-widgets/controls",
      "model_module_version": "1.5.0",
      "model_name": "ButtonModel",
      "state": {
       "description": "reset",
       "layout": "IPY_MODEL_2ffb9e3490d14910b6f8892d02ed1708",
       "style": "IPY_MODEL_a8e080c88f1b434b999301aab71178e1"
      }
     },
     "71519deef010432cb69ff133a73bc4f4": {
      "model_module": "@jupyter-widgets/controls",
      "model_module_version": "1.5.0",
      "model_name": "ButtonStyleModel",
      "state": {}
     },
     "73b67276fe5f4901bbe946ed33915ef3": {
      "model_module": "@jupyter-widgets/controls",
      "model_module_version": "1.5.0",
      "model_name": "DropdownModel",
      "state": {
       "_options_labels": [
        "target",
        "compound 1",
        "compound 2",
        "tip_rack 1",
        "tip_rack 2"
       ],
       "index": 0,
       "layout": "IPY_MODEL_e3a2e88f3f9d40c1b1ea326eef7f61d2",
       "style": "IPY_MODEL_a2134e591baa479e8ad36caddc0e9537"
      }
     },
     "76af259958ad40279181aebea153406c": {
      "model_module": "@jupyter-widgets/controls",
      "model_module_version": "1.5.0",
      "model_name": "ButtonStyleModel",
      "state": {
       "button_color": "lightgray"
      }
     },
     "7885401144dd420dae24bf97f32bdb45": {
      "model_module": "@jupyter-widgets/base",
      "model_module_version": "1.2.0",
      "model_name": "LayoutModel",
      "state": {
       "grid_area": "widget010",
       "width": "auto"
      }
     },
     "78a92173cf1b4c3eb9666f45f61c9578": {
      "model_module": "@jupyter-widgets/base",
      "model_module_version": "1.2.0",
      "model_name": "LayoutModel",
      "state": {
       "grid_area": "widget003",
       "height": "80px",
       "width": "auto"
      }
     },
     "7e2707d9eb504e5b9200aa94633282eb": {
      "model_module": "@jupyter-widgets/base",
      "model_module_version": "1.2.0",
      "model_name": "LayoutModel",
      "state": {
       "grid_area": "widget002",
       "height": "80px",
       "width": "auto"
      }
     },
     "801be4fc73fe4431bfbd4cac801aa2c7": {
      "model_module": "@jupyter-widgets/base",
      "model_module_version": "1.2.0",
      "model_name": "LayoutModel",
      "state": {
       "grid_area": "widget010",
       "height": "80px",
       "width": "auto"
      }
     },
     "806af7e91e6a45abbc68e505cd6ce33b": {
      "model_module": "@jupyter-widgets/controls",
      "model_module_version": "1.5.0",
      "model_name": "ButtonStyleModel",
      "state": {
       "button_color": "lightgray"
      }
     },
     "810bb82673a748979da4b513fcc112a4": {
      "model_module": "@jupyter-widgets/base",
      "model_module_version": "1.2.0",
      "model_name": "LayoutModel",
      "state": {
       "grid_area": "widget020",
       "width": "auto"
      }
     },
     "830017cfc02c4a9a92977e82b67e0994": {
      "model_module": "@jupyter-widgets/controls",
      "model_module_version": "1.5.0",
      "model_name": "TextModel",
      "state": {
       "layout": "IPY_MODEL_d4137c5949ac423cb59c4a7dcb4a314c",
       "style": "IPY_MODEL_91af747652e14f638e6b981dc7273e11"
      }
     },
     "852c1b65680b422f907f447915077bde": {
      "model_module": "@jupyter-widgets/controls",
      "model_module_version": "1.5.0",
      "model_name": "ButtonModel",
      "state": {
       "description": "11",
       "layout": "IPY_MODEL_7e2707d9eb504e5b9200aa94633282eb",
       "style": "IPY_MODEL_eff7f726618a4958b9e159c051a02d43"
      }
     },
     "87a72c94b7f64c09a61fede9c5ad5ce3": {
      "model_module": "@jupyter-widgets/controls",
      "model_module_version": "1.5.0",
      "model_name": "DescriptionStyleModel",
      "state": {
       "description_width": ""
      }
     },
     "881273a1ac5b4594a093f3582dfc3f85": {
      "model_module": "@jupyter-widgets/controls",
      "model_module_version": "1.5.0",
      "model_name": "ButtonModel",
      "state": {
       "description": "08",
       "layout": "IPY_MODEL_cdf7a1d73bec435d8a11ee60fd8cb6b5",
       "style": "IPY_MODEL_a3498636cbf748ae944ca02261322652"
      }
     },
     "89d26da301db4b56be9ac3f3d070565c": {
      "model_module": "@jupyter-widgets/base",
      "model_module_version": "1.2.0",
      "model_name": "LayoutModel",
      "state": {
       "grid_area": "widget009",
       "width": "auto"
      }
     },
     "8a89b1cd9bf740e28198776ce88f042e": {
      "model_module": "@jupyter-widgets/controls",
      "model_module_version": "1.5.0",
      "model_name": "ButtonStyleModel",
      "state": {}
     },
     "8e88b371f32a4fcfaa9a9a26699c51e9": {
      "model_module": "@jupyter-widgets/controls",
      "model_module_version": "1.5.0",
      "model_name": "ButtonStyleModel",
      "state": {}
     },
     "908d80ac7ce7416a94bee04372b810ae": {
      "model_module": "@jupyter-widgets/controls",
      "model_module_version": "1.5.0",
      "model_name": "ButtonModel",
      "state": {
       "description": "04",
       "layout": "IPY_MODEL_467f5ba3418743d3882eba27a91ebb09",
       "style": "IPY_MODEL_71519deef010432cb69ff133a73bc4f4"
      }
     },
     "91af747652e14f638e6b981dc7273e11": {
      "model_module": "@jupyter-widgets/controls",
      "model_module_version": "1.5.0",
      "model_name": "DescriptionStyleModel",
      "state": {
       "description_width": ""
      }
     },
     "958f575be39447e1a76e094b5202f7cd": {
      "model_module": "@jupyter-widgets/controls",
      "model_module_version": "1.5.0",
      "model_name": "ButtonModel",
      "state": {
       "description": "reset",
       "layout": "IPY_MODEL_010f813c61864df0a010aec9ce114eb5",
       "style": "IPY_MODEL_6777b614fe4f473fb4fbd3e06b9b90b9"
      }
     },
     "97836c9d9f574b1d94ff4f91fbe55269": {
      "model_module": "@jupyter-widgets/base",
      "model_module_version": "1.2.0",
      "model_name": "LayoutModel",
      "state": {
       "grid_area": "widget011",
       "height": "80px",
       "width": "auto"
      }
     },
     "9dca7072118c4f8f81c5e7f97912c218": {
      "model_module": "@jupyter-widgets/controls",
      "model_module_version": "1.5.0",
      "model_name": "ButtonStyleModel",
      "state": {}
     },
     "9f38fe3262414bb187256912ec22ac96": {
      "model_module": "@jupyter-widgets/controls",
      "model_module_version": "1.5.0",
      "model_name": "ButtonModel",
      "state": {
       "description": "07",
       "layout": "IPY_MODEL_78a92173cf1b4c3eb9666f45f61c9578",
       "style": "IPY_MODEL_ebfca09c9b1644ae979c7828591875a4"
      }
     },
     "a09e7e91522e4c808b10439d9a62ce3d": {
      "model_module": "@jupyter-widgets/base",
      "model_module_version": "1.2.0",
      "model_name": "LayoutModel",
      "state": {
       "grid_area": "widget014",
       "width": "auto"
      }
     },
     "a103e6d407074b4f9eb01d74cfb8501b": {
      "model_module": "@jupyter-widgets/controls",
      "model_module_version": "1.5.0",
      "model_name": "ButtonModel",
      "state": {
       "description": "clear",
       "layout": "IPY_MODEL_a09e7e91522e4c808b10439d9a62ce3d",
       "style": "IPY_MODEL_d46f4e3e97404d68b8fec0fe23f907f5"
      }
     },
     "a2134e591baa479e8ad36caddc0e9537": {
      "model_module": "@jupyter-widgets/controls",
      "model_module_version": "1.5.0",
      "model_name": "DescriptionStyleModel",
      "state": {
       "description_width": ""
      }
     },
     "a3498636cbf748ae944ca02261322652": {
      "model_module": "@jupyter-widgets/controls",
      "model_module_version": "1.5.0",
      "model_name": "ButtonStyleModel",
      "state": {
       "button_color": "lightgray"
      }
     },
     "a543dd6eb18945738d4a7f206feb7310": {
      "model_module": "@jupyter-widgets/controls",
      "model_module_version": "1.5.0",
      "model_name": "ButtonStyleModel",
      "state": {}
     },
     "a8e080c88f1b434b999301aab71178e1": {
      "model_module": "@jupyter-widgets/controls",
      "model_module_version": "1.5.0",
      "model_name": "ButtonStyleModel",
      "state": {}
     },
     "ac44dd1190a443b39edf9e5284430598": {
      "model_module": "@jupyter-widgets/base",
      "model_module_version": "1.2.0",
      "model_name": "LayoutModel",
      "state": {
       "grid_template_areas": "\"widget001 widget002 .\"\n\"widget003 widget004 widget005\"\n\"widget006 widget007 widget008\"\n\"widget009 widget010 widget011\"\n\". . .\"\n\"widget012 widget013 widget014\"\n\"widget015 widget016 widget017\"\n\"widget018 . .\"\n\"widget019 widget019 widget019\"\n\"widget020 widget020 widget020\"",
       "grid_template_columns": "repeat(3, 1fr)",
       "grid_template_rows": "repeat(10, 1fr)"
      }
     },
     "acf5ae675ae643adb03cc75d7ac6c71c": {
      "model_module": "@jupyter-widgets/base",
      "model_module_version": "1.2.0",
      "model_name": "LayoutModel",
      "state": {
       "grid_area": "widget008",
       "width": "auto"
      }
     },
     "b5629795afca42a68037ba4a075cc67c": {
      "model_module": "@jupyter-widgets/controls",
      "model_module_version": "1.5.0",
      "model_name": "VBoxModel",
      "state": {
       "children": [
        "IPY_MODEL_b80b8920bde640398611dd236c038651"
       ],
       "layout": "IPY_MODEL_00a50285745e4bf7b1f32110961512e8"
      }
     },
     "b61247b60a434ad685961a164c506d13": {
      "model_module": "@jupyter-widgets/controls",
      "model_module_version": "1.5.0",
      "model_name": "ButtonStyleModel",
      "state": {
       "button_color": "lightgray"
      }
     },
     "b7405199cdc143fc98d76f1339aa5352": {
      "model_module": "@jupyter-widgets/controls",
      "model_module_version": "1.5.0",
      "model_name": "ButtonModel",
      "state": {
       "description": "11",
       "layout": "IPY_MODEL_3bcfd74fd83c40a4a13d7be22304e6ff",
       "style": "IPY_MODEL_f449d96ef3364cc6bf279966c89474f2"
      }
     },
     "b80b8920bde640398611dd236c038651": {
      "model_module": "@jupyter-widgets/controls",
      "model_module_version": "1.5.0",
      "model_name": "GridBoxModel",
      "state": {
       "children": [
        "IPY_MODEL_23a49dcfc8ab40269f6fc70f0e3b89cc",
        "IPY_MODEL_852c1b65680b422f907f447915077bde",
        "IPY_MODEL_9f38fe3262414bb187256912ec22ac96",
        "IPY_MODEL_881273a1ac5b4594a093f3582dfc3f85",
        "IPY_MODEL_e2b0c6892b2a405889ad757008fae584",
        "IPY_MODEL_0ba7069e277c41da9c3de59458b58849",
        "IPY_MODEL_5123d082ddb04a40a8017dbd70873497",
        "IPY_MODEL_e6f483ed95de416ba28586a83d1307cc",
        "IPY_MODEL_c134b3e396b54e8189e8ae01a7253abe",
        "IPY_MODEL_5610f6a99db4432c93735840e6f12cac",
        "IPY_MODEL_ccd8beea9535474280a36471449cf532",
        "IPY_MODEL_c249f06ce8384220be9ebcd4744ecbb5",
        "IPY_MODEL_3dcb84c767f246fcad73427d611068d6",
        "IPY_MODEL_a103e6d407074b4f9eb01d74cfb8501b",
        "IPY_MODEL_958f575be39447e1a76e094b5202f7cd",
        "IPY_MODEL_73b67276fe5f4901bbe946ed33915ef3",
        "IPY_MODEL_ec7784fd33044f5e9def58694e0f3929",
        "IPY_MODEL_fd13c09e423646c8a14a4bc4c6dd98f3",
        "IPY_MODEL_ba1abbd278ac4df9b6739490e710d8ab",
        "IPY_MODEL_2ec9113acda741288664e61f63e79af3"
       ],
       "layout": "IPY_MODEL_ac44dd1190a443b39edf9e5284430598"
      }
     },
     "ba1abbd278ac4df9b6739490e710d8ab": {
      "model_module": "@jupyter-widgets/controls",
      "model_module_version": "1.5.0",
      "model_name": "ButtonModel",
      "state": {
       "description": "CHECK",
       "layout": "IPY_MODEL_192370a88b5a4244b63249da8a9ecab8",
       "style": "IPY_MODEL_37215d98cef84f919f95d23d9d7209d0"
      }
     },
     "ba4ecd77a2714c37bd5188414ddac5cd": {
      "model_module": "@jupyter-widgets/controls",
      "model_module_version": "1.5.0",
      "model_name": "ButtonModel",
      "state": {
       "description": "10",
       "layout": "IPY_MODEL_d4d5667a1e2146d78732d6e7755663b9",
       "style": "IPY_MODEL_68199500f53841b1b42e18d152d62478"
      }
     },
     "bb702e50866f4dc0a36e7a4fd5427464": {
      "model_module": "@jupyter-widgets/controls",
      "model_module_version": "1.5.0",
      "model_name": "ButtonModel",
      "state": {
       "description": "08",
       "layout": "IPY_MODEL_2c93ccd3bc484c8ab267b9547cf1a7e3",
       "style": "IPY_MODEL_8e88b371f32a4fcfaa9a9a26699c51e9"
      }
     },
     "c134b3e396b54e8189e8ae01a7253abe": {
      "model_module": "@jupyter-widgets/controls",
      "model_module_version": "1.5.0",
      "model_name": "ButtonModel",
      "state": {
       "description": "01",
       "layout": "IPY_MODEL_f17fed91f5834320af532468315de2d3",
       "style": "IPY_MODEL_e9f18a1cc249417d8c40b2bf97065c75"
      }
     },
     "c249f06ce8384220be9ebcd4744ecbb5": {
      "model_module": "@jupyter-widgets/controls",
      "model_module_version": "1.5.0",
      "model_name": "LabelModel",
      "state": {
       "layout": "IPY_MODEL_c428239b813f430386aaf9e3fd18bd9b",
       "style": "IPY_MODEL_87a72c94b7f64c09a61fede9c5ad5ce3",
       "value": "scan or type"
      }
     },
     "c418d06b7a924e91a00062cadcf8e5e4": {
      "model_module": "@jupyter-widgets/controls",
      "model_module_version": "1.5.0",
      "model_name": "ButtonStyleModel",
      "state": {}
     },
     "c428239b813f430386aaf9e3fd18bd9b": {
      "model_module": "@jupyter-widgets/base",
      "model_module_version": "1.2.0",
      "model_name": "LayoutModel",
      "state": {
       "display": "flex",
       "grid_area": "widget012",
       "justify_content": "center"
      }
     },
     "c48d53ccd140445cad8da019fe1ae94b": {
      "model_module": "@jupyter-widgets/base",
      "model_module_version": "1.2.0",
      "model_name": "LayoutModel",
      "state": {
       "grid_area": "widget007",
       "height": "80px",
       "width": "auto"
      }
     },
     "ccb7d9d1e47547f99da8f96f35616ec1": {
      "model_module": "@jupyter-widgets/controls",
      "model_module_version": "1.5.0",
      "model_name": "LabelModel",
      "state": {
       "layout": "IPY_MODEL_dfdebd8ddc0c4ce3a6548d5aa52d1ca2",
       "style": "IPY_MODEL_d7596f40b2ce4591958d11ebcdbf6b75",
       "value": "scan"
      }
     },
     "ccd8beea9535474280a36471449cf532": {
      "model_module": "@jupyter-widgets/controls",
      "model_module_version": "1.5.0",
      "model_name": "ButtonModel",
      "state": {
       "description": "03",
       "layout": "IPY_MODEL_97836c9d9f574b1d94ff4f91fbe55269",
       "style": "IPY_MODEL_76af259958ad40279181aebea153406c"
      }
     },
     "cdf7a1d73bec435d8a11ee60fd8cb6b5": {
      "model_module": "@jupyter-widgets/base",
      "model_module_version": "1.2.0",
      "model_name": "LayoutModel",
      "state": {
       "grid_area": "widget004",
       "height": "80px",
       "width": "auto"
      }
     },
     "ce23b8be2e6f43a98373a3a5f2dcf547": {
      "model_module": "@jupyter-widgets/controls",
      "model_module_version": "1.5.0",
      "model_name": "ButtonStyleModel",
      "state": {
       "button_color": "lightgray"
      }
     },
     "cfdfddb6fb6d4b11b7666ef78b5ce345": {
      "model_module": "@jupyter-widgets/controls",
      "model_module_version": "1.5.0",
      "model_name": "DescriptionStyleModel",
      "state": {
       "description_width": ""
      }
     },
     "cfeb01f9c28b4fccaec3717d205fa31f": {
      "model_module": "@jupyter-widgets/base",
      "model_module_version": "1.2.0",
      "model_name": "LayoutModel",
      "state": {
       "grid_area": "widget013",
       "width": "auto"
      }
     },
     "d13eac35878d40368d01517713bbe419": {
      "model_module": "@jupyter-widgets/controls",
      "model_module_version": "1.5.0",
      "model_name": "ButtonStyleModel",
      "state": {
       "button_color": "red"
      }
     },
     "d4137c5949ac423cb59c4a7dcb4a314c": {
      "model_module": "@jupyter-widgets/base",
      "model_module_version": "1.2.0",
      "model_name": "LayoutModel",
      "state": {
       "grid_area": "widget013",
       "width": "auto"
      }
     },
     "d46f4e3e97404d68b8fec0fe23f907f5": {
      "model_module": "@jupyter-widgets/controls",
      "model_module_version": "1.5.0",
      "model_name": "ButtonStyleModel",
      "state": {}
     },
     "d4d5667a1e2146d78732d6e7755663b9": {
      "model_module": "@jupyter-widgets/base",
      "model_module_version": "1.2.0",
      "model_name": "LayoutModel",
      "state": {
       "grid_area": "widget001",
       "width": "auto"
      }
     },
     "d51803a4621a46e1baceca107a4c544e": {
      "model_module": "@jupyter-widgets/controls",
      "model_module_version": "1.5.0",
      "model_name": "ButtonStyleModel",
      "state": {}
     },
     "d65342fefd3e4fe187860b8f00268c83": {
      "model_module": "@jupyter-widgets/controls",
      "model_module_version": "1.5.0",
      "model_name": "DescriptionStyleModel",
      "state": {
       "description_width": ""
      }
     },
     "d7596f40b2ce4591958d11ebcdbf6b75": {
      "model_module": "@jupyter-widgets/controls",
      "model_module_version": "1.5.0",
      "model_name": "DescriptionStyleModel",
      "state": {
       "description_width": ""
      }
     },
     "dad86d2c317245d6ab9a47560b207961": {
      "model_module": "@jupyter-widgets/base",
      "model_module_version": "1.2.0",
      "model_name": "LayoutModel",
      "state": {
       "grid_template_areas": "\"widget001 widget002 .\"\n\"widget003 widget004 widget005\"\n\"widget006 widget007 widget008\"\n\"widget009 widget010 widget011\"\n\". . .\"\n\"widget012 widget013 widget014\"\n\"widget015 widget015 widget015\"",
       "grid_template_columns": "repeat(3, 1fr)",
       "grid_template_rows": "repeat(7, 1fr)"
      }
     },
     "dc4b4860fc6145d584d18119d161b82d": {
      "model_module": "@jupyter-widgets/base",
      "model_module_version": "1.2.0",
      "model_name": "LayoutModel",
      "state": {
       "grid_area": "widget003",
       "width": "auto"
      }
     },
     "dfdebd8ddc0c4ce3a6548d5aa52d1ca2": {
      "model_module": "@jupyter-widgets/base",
      "model_module_version": "1.2.0",
      "model_name": "LayoutModel",
      "state": {
       "display": "flex",
       "grid_area": "widget012",
       "justify_content": "center"
      }
     },
     "e22f49b49f3c4586979678d998899070": {
      "model_module": "@jupyter-widgets/base",
      "model_module_version": "1.2.0",
      "model_name": "LayoutModel",
      "state": {
       "grid_area": "widget006",
       "height": "80px",
       "width": "auto"
      }
     },
     "e2b0c6892b2a405889ad757008fae584": {
      "model_module": "@jupyter-widgets/controls",
      "model_module_version": "1.5.0",
      "model_name": "ButtonModel",
      "state": {
       "description": "09",
       "layout": "IPY_MODEL_0921690980c7413a91338197f1205772",
       "style": "IPY_MODEL_33a53cbd600b4adca6bbeef84b2ffb91"
      }
     },
     "e2c4847b0d0848bdb97c2ff09505b1c0": {
      "model_module": "@jupyter-widgets/controls",
      "model_module_version": "1.5.0",
      "model_name": "ButtonStyleModel",
      "state": {}
     },
     "e3a2e88f3f9d40c1b1ea326eef7f61d2": {
      "model_module": "@jupyter-widgets/base",
      "model_module_version": "1.2.0",
      "model_name": "LayoutModel",
      "state": {
       "grid_area": "widget016",
       "width": "auto"
      }
     },
     "e6f483ed95de416ba28586a83d1307cc": {
      "model_module": "@jupyter-widgets/controls",
      "model_module_version": "1.5.0",
      "model_name": "ButtonModel",
      "state": {
       "description": "06",
       "layout": "IPY_MODEL_55f85bbfae064fd399c5a355fefaf093",
       "style": "IPY_MODEL_49d5b09f639a4ba1b30d03af9f93350c"
      }
     },
     "e9f18a1cc249417d8c40b2bf97065c75": {
      "model_module": "@jupyter-widgets/controls",
      "model_module_version": "1.5.0",
      "model_name": "ButtonStyleModel",
      "state": {
       "button_color": "lightgray"
      }
     },
     "ebfca09c9b1644ae979c7828591875a4": {
      "model_module": "@jupyter-widgets/controls",
      "model_module_version": "1.5.0",
      "model_name": "ButtonStyleModel",
      "state": {
       "button_color": "lightgray"
      }
     },
     "ec7784fd33044f5e9def58694e0f3929": {
      "model_module": "@jupyter-widgets/controls",
      "model_module_version": "1.5.0",
      "model_name": "TextModel",
      "state": {
       "layout": "IPY_MODEL_00fe714460814196a9de406bb415b2a5",
       "style": "IPY_MODEL_d65342fefd3e4fe187860b8f00268c83",
       "value": "A1"
      }
     },
     "eff7f726618a4958b9e159c051a02d43": {
      "model_module": "@jupyter-widgets/controls",
      "model_module_version": "1.5.0",
      "model_name": "ButtonStyleModel",
      "state": {
       "button_color": "lightgray"
      }
     },
     "effc5cf5945f476d8031479a38d919c6": {
      "model_module": "@jupyter-widgets/controls",
      "model_module_version": "1.5.0",
      "model_name": "ButtonStyleModel",
      "state": {
       "button_color": "lightgray"
      }
     },
     "f17fed91f5834320af532468315de2d3": {
      "model_module": "@jupyter-widgets/base",
      "model_module_version": "1.2.0",
      "model_name": "LayoutModel",
      "state": {
       "grid_area": "widget009",
       "height": "80px",
       "width": "auto"
      }
     },
     "f449d96ef3364cc6bf279966c89474f2": {
      "model_module": "@jupyter-widgets/controls",
      "model_module_version": "1.5.0",
      "model_name": "ButtonStyleModel",
      "state": {}
     },
     "f6589b196e584b26a67c93d781e48608": {
      "model_module": "@jupyter-widgets/controls",
      "model_module_version": "1.5.0",
      "model_name": "ButtonModel",
      "state": {
       "description": "05",
       "layout": "IPY_MODEL_0419cbc74d244887a2dbf8c42e8f04f8",
       "style": "IPY_MODEL_8a89b1cd9bf740e28198776ce88f042e"
      }
     },
     "fd13c09e423646c8a14a4bc4c6dd98f3": {
      "model_module": "@jupyter-widgets/controls",
      "model_module_version": "1.5.0",
      "model_name": "ButtonModel",
      "state": {
       "description": "load project",
       "layout": "IPY_MODEL_4197d5c5e4554e40949eb6a7d6093867",
       "style": "IPY_MODEL_277a657e0a8c413790f8d73170645cea"
      }
     },
     "fde2500b926c4cb68ddd2477a9684b4f": {
      "model_module": "@jupyter-widgets/controls",
      "model_module_version": "1.5.0",
      "model_name": "ButtonModel",
      "state": {
       "description": "07",
       "layout": "IPY_MODEL_dc4b4860fc6145d584d18119d161b82d",
       "style": "IPY_MODEL_4132507b248840aeba1b363ef3de181b"
      }
     }
    },
    "version_major": 2,
    "version_minor": 0
   }
  }
 },
 "nbformat": 4,
 "nbformat_minor": 5
}
