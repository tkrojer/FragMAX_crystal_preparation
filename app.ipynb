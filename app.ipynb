{
 "cells": [
  {
   "cell_type": "code",
   "execution_count": 1,
   "id": "52ec126a",
   "metadata": {},
   "outputs": [],
   "source": [
    "import os\n",
    "import sys\n",
    "import logging"
   ]
  },
  {
   "cell_type": "code",
   "execution_count": 2,
   "id": "0aa49051",
   "metadata": {},
   "outputs": [],
   "source": [
    "import ipywidgets as widgets\n",
    "from ipywidgets import HBox, VBox, Layout, IntProgress, Label"
   ]
  },
  {
   "cell_type": "code",
   "execution_count": 3,
   "id": "9023302b",
   "metadata": {},
   "outputs": [],
   "source": [
    "from db import dal"
   ]
  },
  {
   "cell_type": "code",
   "execution_count": 4,
   "id": "8dd92ad8",
   "metadata": {},
   "outputs": [],
   "source": [
    "sys.path.append(os.path.join(os.getcwd(), 'lib'))\n",
    "from settings import settings"
   ]
  },
  {
   "cell_type": "code",
   "execution_count": 5,
   "id": "a8afdc7d",
   "metadata": {},
   "outputs": [
    {
     "data": {
      "application/vnd.jupyter.widget-view+json": {
       "model_id": "0dc06e4d42ba4ad38509a6581d18d1d0",
       "version_major": 2,
       "version_minor": 0
      },
      "text/plain": [
       "Output()"
      ]
     },
     "metadata": {},
     "output_type": "display_data"
    }
   ],
   "source": [
    "sys.path.append(os.path.join(os.getcwd(), 'gui_lib'))\n",
    "from popup import popup\n",
    "from layout import layout\n",
    "from fragmax_logo import page_header\n",
    "from project_tab import project_tab\n",
    "from protein_batch_tab import protein_batch_tab\n",
    "from crystal_screen_tab import crystal_screen_tab\n",
    "from crystal_plate_tab import crystal_plate_tab\n",
    "from inspect_plate_tab import inspect_plate_tab\n",
    "from soak_plate_tab import soak_plate_tab\n",
    "from soaked_crystal_tab import soaked_crystal_tab"
   ]
  },
  {
   "cell_type": "code",
   "execution_count": 6,
   "id": "611ca5bd",
   "metadata": {},
   "outputs": [],
   "source": [
    "standard_table_file = os.path.join(os.getcwd(), 'database', 'lookup_tables.xlsx')\n",
    "crystal_plate_template = os.path.join(os.getcwd(),'templates','crystal_plate_template.csv')"
   ]
  },
  {
   "cell_type": "code",
   "execution_count": 7,
   "id": "20876749",
   "metadata": {},
   "outputs": [],
   "source": [
    "layoutObject = layout()\n",
    "settingsObject = settings()\n",
    "logger = logging.getLogger()"
   ]
  },
  {
   "cell_type": "code",
   "execution_count": 8,
   "id": "fc74e934",
   "metadata": {},
   "outputs": [],
   "source": [
    "progress_bar = IntProgress(min=0, max=100)"
   ]
  },
  {
   "cell_type": "code",
   "execution_count": 9,
   "id": "ce987cb6",
   "metadata": {},
   "outputs": [],
   "source": [
    "crystalplateTabObject = crystal_plate_tab(settingsObject, dal, logger)\n",
    "soakplateTabObject = soak_plate_tab(settingsObject, dal, logger)\n",
    "projectTabObject = project_tab(settingsObject, logger, dal, standard_table_file, crystalplateTabObject, soakplateTabObject)\n",
    "proteinbatchTabObject = protein_batch_tab(dal, logger)\n",
    "crystalscreenTabObject = crystal_screen_tab(settingsObject, dal, logger, crystal_plate_template, progress_bar)\n",
    "inspectplateTabObject = inspect_plate_tab(settingsObject, dal, logger)\n",
    "crystalsoakTabObject = soaked_crystal_tab(settingsObject, dal, logger, popup, progress_bar)"
   ]
  },
  {
   "cell_type": "code",
   "execution_count": 10,
   "id": "84c7b54c",
   "metadata": {},
   "outputs": [],
   "source": [
    "tab0 = VBox(children=[projectTabObject.grid_widget])\n",
    "tab1 = VBox(children=[proteinbatchTabObject.top_grid_widget, proteinbatchTabObject.tab,\n",
    "                     proteinbatchTabObject.save_batch_to_db_button])\n",
    "tab2 = VBox(children=[crystalscreenTabObject.grid_widget, HBox([crystalscreenTabObject.screen_sheet], layout={'height': '250px'}),\n",
    "                      crystalscreenTabObject.save_screen_to_db_button ])\n",
    "tab3 = VBox(children=[crystalplateTabObject.grid_widget_upper, crystalplateTabObject.grid_widget_lower])\n",
    "#tab4 = VBox(children=[inspectplateTabObject.import_shifter_marked_crystals_button])\n",
    "#tab4 = VBox(children=[inspectplateTabObject.import_shifter_marked_crystals_button, \n",
    "#                      inspectplateTabObject.table_box])\n",
    "tab4 = VBox(children=[inspectplateTabObject.grid_widget])\n",
    "tab5 = VBox(children=[soakplateTabObject.grid_widget])\n",
    "tab6 = VBox(children=[crystalsoakTabObject.grid_widget])\n",
    "tab = widgets.Tab(children=[tab0, tab1, tab2, tab3, tab4, tab5, tab6])\n",
    "tab.set_title(0, 'Project Description')\n",
    "tab.set_title(1, 'Protein Batch')\n",
    "tab.set_title(2, 'Crystal Screen')\n",
    "tab.set_title(3, 'Crystal Plate')\n",
    "tab.set_title(4, 'Inspect Plate')\n",
    "tab.set_title(5, 'Soak Plate')\n",
    "tab.set_title(6, 'Crystal Soak')"
   ]
  },
  {
   "cell_type": "code",
   "execution_count": 11,
   "id": "8fcc0bd0",
   "metadata": {},
   "outputs": [
    {
     "data": {
      "application/vnd.jupyter.widget-view+json": {
       "model_id": "0efb8eddd9e944cfb7e92c5654d94200",
       "version_major": 2,
       "version_minor": 0
      },
      "text/plain": [
       "VBox(children=(HBox(children=(Image(value=b'\\x89PNG\\r\\n\\x1a\\n\\x00\\x00\\x00\\rIHDR\\x00\\x00\\x06\\'\\x00\\x00\\x02\\xae\\…"
      ]
     },
     "metadata": {},
     "output_type": "display_data"
    }
   ],
   "source": [
    "VBox(children=[page_header().logo, tab, progress_bar])"
   ]
  },
  {
   "cell_type": "code",
   "execution_count": 12,
   "id": "53d46503",
   "metadata": {},
   "outputs": [],
   "source": [
    "#from sqlalchemy.sql import select\n",
    "#q = select(dal.project_table)\n",
    "#rp = dal.connection.execute(q)\n",
    "#result = rp.first()\n",
    "#print(result.values())\n"
   ]
  },
  {
   "cell_type": "code",
   "execution_count": 13,
   "id": "71a39a0c",
   "metadata": {},
   "outputs": [],
   "source": [
    "#import pandas as pd\n",
    "#import panel as pn\n",
    "#import numpy as np\n",
    "#pn.extension('tabulator')\n",
    "#sel_df = pd.DataFrame(np.random.randn(3, 5), columns=list('ABCDE'))\n",
    "#inspected_wells_sheet = pn.widgets.Tabulator(sel_df)\n",
    "#display(inspected_wells_sheet)"
   ]
  },
  {
   "cell_type": "code",
   "execution_count": 14,
   "id": "717568ba",
   "metadata": {},
   "outputs": [],
   "source": [
    "#dir(inspectplateTabObject.inspected_wells_sheet)\n",
    "#data = [['A', 'B', 'C'],['X', 'Y', 'Z']]"
   ]
  },
  {
   "cell_type": "code",
   "execution_count": 15,
   "id": "6ebfb449",
   "metadata": {},
   "outputs": [],
   "source": [
    "#import getpass\n",
    "#password = getpass.getpass()\n"
   ]
  },
  {
   "cell_type": "code",
   "execution_count": 16,
   "id": "869a986d",
   "metadata": {},
   "outputs": [],
   "source": [
    "#import pandas as pd\n",
    "#c = '/Users/tobkro/tmp/more_wf_tests/workflow/2-soak/UR001382_xtal.csv'\n",
    "#df = pd.read_csv(c, dtype=str)"
   ]
  },
  {
   "cell_type": "code",
   "execution_count": null,
   "id": "feb16862",
   "metadata": {},
   "outputs": [],
   "source": []
  }
 ],
 "metadata": {
  "kernelspec": {
   "display_name": "Python 3 (ipykernel)",
   "language": "python",
   "name": "python3"
  },
  "language_info": {
   "codemirror_mode": {
    "name": "ipython",
    "version": 3
   },
   "file_extension": ".py",
   "mimetype": "text/x-python",
   "name": "python",
   "nbconvert_exporter": "python",
   "pygments_lexer": "ipython3",
   "version": "3.8.15"
  }
 },
 "nbformat": 4,
 "nbformat_minor": 5
}
