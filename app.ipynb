{
 "cells": [
  {
   "cell_type": "code",
   "execution_count": 1,
   "id": "52ec126a",
   "metadata": {},
   "outputs": [],
   "source": [
    "import os\n",
    "import sys\n",
    "import logging"
   ]
  },
  {
   "cell_type": "code",
   "execution_count": 2,
   "id": "0aa49051",
   "metadata": {},
   "outputs": [],
   "source": [
    "import ipywidgets as widgets\n",
    "from ipywidgets import HBox, VBox, Layout, IntProgress, Label"
   ]
  },
  {
   "cell_type": "code",
   "execution_count": 3,
   "id": "9023302b",
   "metadata": {},
   "outputs": [],
   "source": [
    "from db import dal"
   ]
  },
  {
   "cell_type": "code",
   "execution_count": 4,
   "id": "8dd92ad8",
   "metadata": {},
   "outputs": [],
   "source": [
    "sys.path.append(os.path.join(os.getcwd(), 'lib'))\n",
    "from settings import settings"
   ]
  },
  {
   "cell_type": "code",
   "execution_count": 5,
   "id": "a8afdc7d",
   "metadata": {},
   "outputs": [],
   "source": [
    "sys.path.append(os.path.join(os.getcwd(), 'gui_lib'))\n",
    "from layout import layout\n",
    "from fragmax_logo import page_header\n",
    "from project_tab import project_tab\n",
    "from protein_batch_tab import protein_batch_tab"
   ]
  },
  {
   "cell_type": "code",
   "execution_count": 6,
   "id": "611ca5bd",
   "metadata": {},
   "outputs": [],
   "source": [
    "standard_table_file = os.path.join(os.getcwd(), 'database', 'lookup_tables.xlsx')"
   ]
  },
  {
   "cell_type": "code",
   "execution_count": 7,
   "id": "20876749",
   "metadata": {},
   "outputs": [],
   "source": [
    "layoutObject = layout()\n",
    "settingsObject = settings()\n",
    "logger = logging.getLogger()"
   ]
  },
  {
   "cell_type": "code",
   "execution_count": 8,
   "id": "fc74e934",
   "metadata": {},
   "outputs": [],
   "source": [
    "progress_bar = IntProgress(min=0, max=100)"
   ]
  },
  {
   "cell_type": "code",
   "execution_count": 9,
   "id": "ce987cb6",
   "metadata": {},
   "outputs": [],
   "source": [
    "projectTabObject = project_tab(settingsObject, logger, dal, standard_table_file)\n",
    "proteinbatchTabObject = protein_batch_tab(dal, logger)"
   ]
  },
  {
   "cell_type": "code",
   "execution_count": 10,
   "id": "84c7b54c",
   "metadata": {},
   "outputs": [],
   "source": [
    "tab0 = VBox(children=[projectTabObject.grid_widget])\n",
    "tab1 = VBox(children=[proteinbatchTabObject.top_grid_widget, proteinbatchTabObject.tab,\n",
    "                     proteinbatchTabObject.save_batch_to_db_button])\n",
    "tab = widgets.Tab(children=[tab0, tab1])\n",
    "tab.set_title(0, 'Project Description')\n",
    "tab.set_title(1, 'Protein Batch')"
   ]
  },
  {
   "cell_type": "code",
   "execution_count": 13,
   "id": "8fcc0bd0",
   "metadata": {},
   "outputs": [
    {
     "data": {
      "application/vnd.jupyter.widget-view+json": {
       "model_id": "ba7e4affe2444fbe9cbb3af0d3bfc7b8",
       "version_major": 2,
       "version_minor": 0
      },
      "text/plain": [
       "VBox(children=(HBox(children=(Image(value=b'\\x89PNG\\r\\n\\x1a\\n\\x00\\x00\\x00\\rIHDR\\x00\\x00\\x06\\'\\x00\\x00\\x02\\xae\\…"
      ]
     },
     "metadata": {},
     "output_type": "display_data"
    },
    {
     "name": "stderr",
     "output_type": "stream",
     "text": [
      "/Users/tobkro/MAXIV/FragMAX/LP3/FragMAX_crystal_preparation/db_lib/query.py:79: SAWarning: Dialect sqlite+pysqlite does *not* support Decimal objects natively, and SQLAlchemy must convert from floating point - rounding errors and other issues may occur. Please consider storing Decimal numbers as strings or integers on this platform for lossless storage.\n",
      "  rp = dal.connection.execute(q)\n"
     ]
    }
   ],
   "source": [
    "VBox(children=[page_header().logo, tab, progress_bar])"
   ]
  },
  {
   "cell_type": "code",
   "execution_count": 12,
   "id": "53d46503",
   "metadata": {},
   "outputs": [],
   "source": [
    "#from sqlalchemy.sql import select\n",
    "#q = select(dal.project_table)\n",
    "#rp = dal.connection.execute(q)\n",
    "#result = rp.first()\n",
    "#print(result.values())\n"
   ]
  },
  {
   "cell_type": "code",
   "execution_count": null,
   "id": "dbafd80e",
   "metadata": {},
   "outputs": [],
   "source": []
  }
 ],
 "metadata": {
  "kernelspec": {
   "display_name": "Python 3 (ipykernel)",
   "language": "python",
   "name": "python3"
  },
  "language_info": {
   "codemirror_mode": {
    "name": "ipython",
    "version": 3
   },
   "file_extension": ".py",
   "mimetype": "text/x-python",
   "name": "python",
   "nbconvert_exporter": "python",
   "pygments_lexer": "ipython3",
   "version": "3.8.15"
  }
 },
 "nbformat": 4,
 "nbformat_minor": 5
}
