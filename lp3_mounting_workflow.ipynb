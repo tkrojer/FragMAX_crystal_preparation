{
 "cells": [
  {
   "cell_type": "code",
   "execution_count": 1,
   "metadata": {},
   "outputs": [],
   "source": [
    "import ipywidgets as widgets\n",
    "from ipywidgets import HBox, VBox, Layout, IntProgress, Label\n",
    "import os\n",
    "import logging"
   ]
  },
  {
   "cell_type": "code",
   "execution_count": 2,
   "metadata": {},
   "outputs": [],
   "source": [
    "import sys\n",
    "sys.path.append(os.path.join(os.getcwd(), 'lib'))"
   ]
  },
  {
   "cell_type": "code",
   "execution_count": 3,
   "metadata": {},
   "outputs": [],
   "source": [
    "from project_description import project_description\n",
    "from settings import settings\n",
    "from fragmax_logo import page_header\n",
    "from log import OutputWidgetHandler\n",
    "from db_objects import db_objects\n",
    "from crystal_screen import crystal_screen\n",
    "from crystal_plate import crystal_plate\n",
    "from inspect_plate import inspect_plate\n",
    "from soak_plate import soak_plate"
   ]
  },
  {
   "cell_type": "code",
   "execution_count": 4,
   "metadata": {},
   "outputs": [],
   "source": [
    "# qgrid widget is responsible for voila problem\n",
    "# see https://github.com/voila-dashboards/voila/issues/72\n",
    "# the solution is to edit /Applications/anaconda3/share/jupyter/nbextensions/qgrid/index.js and change\n",
    "# define([\"@jupyter-widgets/base\",\"base/js/dialog\"], function(__WEBPACK_EXTERNAL_MODULE_139__,\n",
    "# to\n",
    "# define([\"@jupyter-widgets/base\"], function(__WEBPACK_EXTERNAL_MODULE_139__,"
   ]
  },
  {
   "cell_type": "code",
   "execution_count": 5,
   "metadata": {},
   "outputs": [],
   "source": [
    "lp3_project_folder = os.path.join('/Users/tobkro/tmp/jupyter_test')\n",
    "db_template = os.path.join(os.getcwd(),'database', 'fragmax.sqlite')\n",
    "shifter_template = os.path.join(os.getcwd(),'templates','shifter_template.csv')\n",
    "crystal_plate_template = os.path.join(os.getcwd(),'templates','crystal_plate_template.csv')"
   ]
  },
  {
   "cell_type": "code",
   "execution_count": 6,
   "metadata": {},
   "outputs": [],
   "source": [
    "logger = logging.getLogger(__name__)\n",
    "handler = OutputWidgetHandler()\n",
    "handler.setFormatter(logging.Formatter('%(asctime)s - [%(levelname)s] %(message)s'))\n",
    "logger.addHandler(handler)\n",
    "logger.setLevel(logging.INFO)\n",
    "logger.info('starting session')"
   ]
  },
  {
   "cell_type": "code",
   "execution_count": 7,
   "metadata": {},
   "outputs": [
    {
     "ename": "NameError",
     "evalue": "name 'TableDisplay' is not defined",
     "output_type": "error",
     "traceback": [
      "\u001b[0;31m---------------------------------------------------------------------------\u001b[0m",
      "\u001b[0;31mNameError\u001b[0m                                 Traceback (most recent call last)",
      "\u001b[0;32m<ipython-input-7-a25d338ce046>\u001b[0m in \u001b[0;36m<module>\u001b[0;34m\u001b[0m\n\u001b[1;32m      7\u001b[0m \u001b[0mcrystalscreenObject\u001b[0m \u001b[0;34m=\u001b[0m \u001b[0mcrystal_screen\u001b[0m\u001b[0;34m(\u001b[0m\u001b[0msettingsObject\u001b[0m\u001b[0;34m,\u001b[0m \u001b[0mdbObject\u001b[0m\u001b[0;34m,\u001b[0m \u001b[0mlogger\u001b[0m\u001b[0;34m,\u001b[0m \u001b[0mcrystal_plate_template\u001b[0m\u001b[0;34m)\u001b[0m\u001b[0;34m\u001b[0m\u001b[0;34m\u001b[0m\u001b[0m\n\u001b[1;32m      8\u001b[0m \u001b[0mcrystalplateObject\u001b[0m \u001b[0;34m=\u001b[0m \u001b[0mcrystal_plate\u001b[0m\u001b[0;34m(\u001b[0m\u001b[0msettingsObject\u001b[0m\u001b[0;34m,\u001b[0m \u001b[0mdbObject\u001b[0m\u001b[0;34m,\u001b[0m \u001b[0mlogger\u001b[0m\u001b[0;34m)\u001b[0m\u001b[0;34m\u001b[0m\u001b[0;34m\u001b[0m\u001b[0m\n\u001b[0;32m----> 9\u001b[0;31m \u001b[0minspectplateObject\u001b[0m \u001b[0;34m=\u001b[0m \u001b[0minspect_plate\u001b[0m\u001b[0;34m(\u001b[0m\u001b[0msettingsObject\u001b[0m\u001b[0;34m,\u001b[0m \u001b[0mdbObject\u001b[0m\u001b[0;34m,\u001b[0m \u001b[0mlogger\u001b[0m\u001b[0;34m)\u001b[0m\u001b[0;34m\u001b[0m\u001b[0;34m\u001b[0m\u001b[0m\n\u001b[0m\u001b[1;32m     10\u001b[0m \u001b[0msoakplateObject\u001b[0m \u001b[0;34m=\u001b[0m \u001b[0msoak_plate\u001b[0m\u001b[0;34m(\u001b[0m\u001b[0msettingsObject\u001b[0m\u001b[0;34m,\u001b[0m \u001b[0mdbObject\u001b[0m\u001b[0;34m,\u001b[0m \u001b[0mlogger\u001b[0m\u001b[0;34m)\u001b[0m\u001b[0;34m\u001b[0m\u001b[0;34m\u001b[0m\u001b[0m\n",
      "\u001b[0;32m~/MAXIV/FragMAX/LP3/FragMAX_crystal_preparation/lib/inspect_plate.py\u001b[0m in \u001b[0;36m__init__\u001b[0;34m(self, settingsObject, dbObject, logger)\u001b[0m\n\u001b[1;32m     37\u001b[0m             \u001b[0mx\u001b[0m\u001b[0;34m.\u001b[0m\u001b[0mappend\u001b[0m\u001b[0;34m(\u001b[0m\u001b[0mm\u001b[0m\u001b[0;34m)\u001b[0m\u001b[0;34m\u001b[0m\u001b[0;34m\u001b[0m\u001b[0m\n\u001b[1;32m     38\u001b[0m \u001b[0;34m\u001b[0m\u001b[0m\n\u001b[0;32m---> 39\u001b[0;31m         \u001b[0mself\u001b[0m\u001b[0;34m.\u001b[0m\u001b[0mmounted_crystals_sheet\u001b[0m \u001b[0;34m=\u001b[0m \u001b[0mTableDisplay\u001b[0m\u001b[0;34m(\u001b[0m\u001b[0mx\u001b[0m\u001b[0;34m)\u001b[0m\u001b[0;34m\u001b[0m\u001b[0;34m\u001b[0m\u001b[0m\n\u001b[0m\u001b[1;32m     40\u001b[0m \u001b[0;34m\u001b[0m\u001b[0m\n\u001b[1;32m     41\u001b[0m         \u001b[0mself\u001b[0m\u001b[0;34m.\u001b[0m\u001b[0mvbox_cystal_image\u001b[0m \u001b[0;34m=\u001b[0m \u001b[0mwidgets\u001b[0m\u001b[0;34m.\u001b[0m\u001b[0mVBox\u001b[0m\u001b[0;34m(\u001b[0m\u001b[0mchildren\u001b[0m\u001b[0;34m=\u001b[0m\u001b[0;34m[\u001b[0m\u001b[0;34m]\u001b[0m\u001b[0;34m)\u001b[0m\u001b[0;34m\u001b[0m\u001b[0;34m\u001b[0m\u001b[0m\n",
      "\u001b[0;31mNameError\u001b[0m: name 'TableDisplay' is not defined"
     ]
    }
   ],
   "source": [
    "crystalplateObject = None\n",
    "settingsObject = settings()\n",
    "dbObject = db_objects()\n",
    "headerObject = page_header()\n",
    "# https://stackoverflow.com/questions/7501706/how-do-i-pass-variables-between-class-instances-or-get-the-caller\n",
    "projectObject = project_description(settingsObject, dbObject, crystalplateObject, logger, lp3_project_folder, db_template)\n",
    "crystalscreenObject = crystal_screen(settingsObject, dbObject, logger, crystal_plate_template)\n",
    "crystalplateObject = crystal_plate(settingsObject, dbObject, logger)\n",
    "inspectplateObject = inspect_plate(settingsObject, dbObject, logger)\n",
    "soakplateObject = soak_plate(settingsObject, dbObject, logger)"
   ]
  },
  {
   "cell_type": "code",
   "execution_count": 8,
   "metadata": {},
   "outputs": [
    {
     "ename": "NameError",
     "evalue": "name 'inspectplateObject' is not defined",
     "output_type": "error",
     "traceback": [
      "\u001b[0;31m---------------------------------------------------------------------------\u001b[0m",
      "\u001b[0;31mNameError\u001b[0m                                 Traceback (most recent call last)",
      "\u001b[0;32m<ipython-input-8-4b6edaa45e6e>\u001b[0m in \u001b[0;36m<module>\u001b[0;34m\u001b[0m\n\u001b[1;32m      3\u001b[0m                       crystalscreenObject.save_screen_to_db_button, crystalscreenObject.crystal_screen_progress ])\n\u001b[1;32m      4\u001b[0m \u001b[0mtab2\u001b[0m \u001b[0;34m=\u001b[0m \u001b[0mVBox\u001b[0m\u001b[0;34m(\u001b[0m\u001b[0mchildren\u001b[0m\u001b[0;34m=\u001b[0m\u001b[0;34m[\u001b[0m\u001b[0mcrystalplateObject\u001b[0m\u001b[0;34m.\u001b[0m\u001b[0mgrid_widget_upper\u001b[0m\u001b[0;34m,\u001b[0m \u001b[0mcrystalplateObject\u001b[0m\u001b[0;34m.\u001b[0m\u001b[0mgrid_widget_lower\u001b[0m\u001b[0;34m]\u001b[0m\u001b[0;34m)\u001b[0m\u001b[0;34m\u001b[0m\u001b[0;34m\u001b[0m\u001b[0m\n\u001b[0;32m----> 5\u001b[0;31m \u001b[0mtab3\u001b[0m \u001b[0;34m=\u001b[0m \u001b[0mVBox\u001b[0m\u001b[0;34m(\u001b[0m\u001b[0mchildren\u001b[0m\u001b[0;34m=\u001b[0m\u001b[0;34m[\u001b[0m\u001b[0minspectplateObject\u001b[0m\u001b[0;34m.\u001b[0m\u001b[0mimport_shifter_marked_crystals_button\u001b[0m\u001b[0;34m,\u001b[0m \u001b[0minspectplateObject\u001b[0m\u001b[0;34m.\u001b[0m\u001b[0mmounted_crystals_sheet\u001b[0m\u001b[0;34m,\u001b[0m \u001b[0minspectplateObject\u001b[0m\u001b[0;34m.\u001b[0m\u001b[0mvbox_cystal_image\u001b[0m\u001b[0;34m]\u001b[0m\u001b[0;34m)\u001b[0m\u001b[0;34m\u001b[0m\u001b[0;34m\u001b[0m\u001b[0m\n\u001b[0m\u001b[1;32m      6\u001b[0m \u001b[0mtab4\u001b[0m \u001b[0;34m=\u001b[0m \u001b[0mVBox\u001b[0m\u001b[0;34m(\u001b[0m\u001b[0mchildren\u001b[0m\u001b[0;34m=\u001b[0m\u001b[0;34m[\u001b[0m\u001b[0msoakplateObject\u001b[0m\u001b[0;34m.\u001b[0m\u001b[0mgrid_widget\u001b[0m\u001b[0;34m]\u001b[0m\u001b[0;34m)\u001b[0m\u001b[0;34m\u001b[0m\u001b[0;34m\u001b[0m\u001b[0m\n\u001b[1;32m      7\u001b[0m \u001b[0;34m\u001b[0m\u001b[0m\n",
      "\u001b[0;31mNameError\u001b[0m: name 'inspectplateObject' is not defined"
     ]
    }
   ],
   "source": [
    "tab0 = VBox(children=[projectObject.grid_widget])\n",
    "tab1 = VBox(children=[crystalscreenObject.grid_widget, HBox([crystalscreenObject.screen_sheet], layout={'height': '250px'}),\n",
    "                      crystalscreenObject.save_screen_to_db_button, crystalscreenObject.crystal_screen_progress ])\n",
    "tab2 = VBox(children=[crystalplateObject.grid_widget_upper, crystalplateObject.grid_widget_lower])\n",
    "tab3 = VBox(children=[inspectplateObject.import_shifter_marked_crystals_button, inspectplateObject.mounted_crystals_sheet, inspectplateObject.vbox_cystal_image])\n",
    "tab4 = VBox(children=[soakplateObject.grid_widget])\n",
    "\n",
    "tab = widgets.Tab(children=[tab0, tab1, tab2, tab3, tab4])\n",
    "tab.set_title(0, 'Project Description')\n",
    "tab.set_title(1, 'Crystal Screen')\n",
    "tab.set_title(2, 'Crystal Plate')\n",
    "tab.set_title(3, 'Inspect Plate')\n",
    "tab.set_title(4, 'Soak Plate')\n",
    "VBox(children=[headerObject.logo, tab])\n",
    "# https://stackoverflow.com/questions/55763382/get-ipywidget-button-within-a-class-to-access-class-parameters-through-self"
   ]
  },
  {
   "cell_type": "code",
   "execution_count": null,
   "metadata": {},
   "outputs": [],
   "source": [
    "handler.show_logs()"
   ]
  },
  {
   "cell_type": "code",
   "execution_count": null,
   "metadata": {},
   "outputs": [],
   "source": []
  }
 ],
 "metadata": {
  "kernelspec": {
   "display_name": "Python 3",
   "language": "python",
   "name": "python3"
  },
  "language_info": {
   "codemirror_mode": {
    "name": "ipython",
    "version": 3
   },
   "file_extension": ".py",
   "mimetype": "text/x-python",
   "name": "python",
   "nbconvert_exporter": "python",
   "pygments_lexer": "ipython3",
   "version": "3.8.5"
  },
  "toc": {
   "base_numbering": 1,
   "nav_menu": {},
   "number_sections": false,
   "sideBar": false,
   "skip_h1_title": false,
   "title_cell": "Table of Contents",
   "title_sidebar": "Contents",
   "toc_cell": false,
   "toc_position": {},
   "toc_section_display": false,
   "toc_window_display": false
  }
 },
 "nbformat": 4,
 "nbformat_minor": 4
}
