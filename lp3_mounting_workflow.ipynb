{
 "cells": [
  {
   "cell_type": "code",
   "execution_count": 1,
   "metadata": {},
   "outputs": [],
   "source": [
    "import ipywidgets as widgets\n",
    "from ipywidgets import HBox, VBox, Layout, IntProgress, Label\n",
    "import os\n",
    "import logging"
   ]
  },
  {
   "cell_type": "code",
   "execution_count": 2,
   "metadata": {},
   "outputs": [],
   "source": [
    "import sys\n",
    "sys.path.append(os.path.join(os.getcwd(), 'lib'))"
   ]
  },
  {
   "cell_type": "code",
   "execution_count": 3,
   "metadata": {},
   "outputs": [],
   "source": [
    "from layout import layout\n",
    "from project_description import project_description\n",
    "from settings import settings\n",
    "from fragmax_logo import page_header\n",
    "from log import OutputWidgetHandler\n",
    "from db_objects import db_objects\n",
    "from crystal_screen import crystal_screen\n",
    "from crystal_plate import crystal_plate\n",
    "from inspect_plate import inspect_plate\n",
    "from soak_plate import soak_plate\n",
    "from crystal_soak import crystal_soak\n",
    "from mounted_crystals import mounted_crystals\n",
    "from protein_batch import protein_batch\n",
    "from eln_entry import eln_entry"
   ]
  },
  {
   "cell_type": "code",
   "execution_count": 4,
   "metadata": {},
   "outputs": [],
   "source": [
    "# qgrid widget is responsible for voila problem\n",
    "# see https://github.com/voila-dashboards/voila/issues/72\n",
    "# the solution is to edit /Applications/anaconda3/share/jupyter/nbextensions/qgrid/index.js and change\n",
    "# define([\"@jupyter-widgets/base\",\"base/js/dialog\"], function(__WEBPACK_EXTERNAL_MODULE_139__,\n",
    "# to\n",
    "# define([\"@jupyter-widgets/base\"], function(__WEBPACK_EXTERNAL_MODULE_139__,\n",
    "#\n",
    "# matplotlib is troublesome on windows as well, but I have not found a solution...\n",
    "#\n",
    "# more qgrid woes\n",
    "# qgrid problem on windows, see: https://github.com/quantopian/qgrid/issues/253\n",
    "# jupyter nbextension enable --py --sys-prefix qgrid\n",
    "# jupyter nbextension enable --py --sys-prefix widgetsnbextension"
   ]
  },
  {
   "cell_type": "code",
   "execution_count": 5,
   "metadata": {},
   "outputs": [],
   "source": [
    "# project folder structure\n",
    "#\n",
    "# example_project/\n",
    "# ├── crystal_images\n",
    "# ├── crystal_screen\n",
    "# ├── database\n",
    "# └── workflow\n",
    "#     ├── 1-inspect\n",
    "#     ├── 2-soak\n",
    "#     └── 3-mount\n",
    "#     └── 4-mount-manual"
   ]
  },
  {
   "cell_type": "code",
   "execution_count": 6,
   "metadata": {},
   "outputs": [],
   "source": [
    "# Notes about the workflow\n",
    "# 1-inspect\n",
    "# User needs to save csv file after shifter inspection as _inspect.csv\n",
    "# 2-soak\n",
    "# Software writes compound csv plate\n",
    "# In shifter:\n",
    "# Load compound csv\n",
    "# Load inspect csv\n",
    "# Note: shifter software updates csv files on the fly (i.e. this may be relevant for the possible overwriting of the inspect csv file)\n",
    "# Note2: destination information is stored in the compounds plate\n",
    "#\n",
    "# more notes\n",
    "#Crystal plate csv is written to 1-inspect\n",
    "#After inspection: user needs to save file as _inspect.csv\n",
    "#Import csv file\n",
    "#Marked crystals are read in an copy of _inspect.csv file is saved in 2-soak folder (now with ending _crystal.csv)\n",
    "#\n",
    "#Prepare soak plate\n",
    "#Csv of soak plate is written to 2-soak folder with ending _compound.csv\n",
    "#\n",
    "#Crystal soak\n",
    "#Read _compound.csv plate\n",
    "#the _crystal.csv plate is only important for the shifter to find out where to go, but it is irrelevant for the database since the _compound file contains already all the necessary information \n"
   ]
  },
  {
   "cell_type": "code",
   "execution_count": 7,
   "metadata": {},
   "outputs": [],
   "source": [
    "lp3_project_folder = os.path.join('/Users/tobkro/tmp/jupyter_test')\n",
    "db_sql = os.path.join(os.getcwd(),'database', 'db_schema.sql')\n",
    "compoundTable_csv = os.path.join(os.getcwd(),'database', 'tables', 'CompoundTable.csv')\n",
    "compoundBatchTable_csv = os.path.join(os.getcwd(),'database', 'tables', 'CompoundBatchTable.csv')\n",
    "shifter_template = os.path.join(os.getcwd(),'templates','shifter_template.csv')\n",
    "crystal_plate_template = os.path.join(os.getcwd(),'templates','crystal_plate_template.csv')"
   ]
  },
  {
   "cell_type": "code",
   "execution_count": 8,
   "metadata": {},
   "outputs": [],
   "source": [
    "logger = logging.getLogger(__name__)\n",
    "handler = OutputWidgetHandler()\n",
    "handler.setFormatter(logging.Formatter('%(asctime)s - [%(levelname)s] %(message)s'))\n",
    "logger.addHandler(handler)\n",
    "logger.setLevel(logging.INFO)\n",
    "logger.info('starting session')"
   ]
  },
  {
   "cell_type": "code",
   "execution_count": 9,
   "metadata": {},
   "outputs": [],
   "source": [
    "layoutObject = layout()\n",
    "settingsObject = settings()\n",
    "dbObject = db_objects()\n",
    "headerObject = page_header()\n",
    "crystalplateObject = crystal_plate(settingsObject, dbObject, logger)\n",
    "projectObject = project_description(settingsObject, dbObject, crystalplateObject, logger, lp3_project_folder, \n",
    "                                    db_sql, compoundTable_csv, compoundBatchTable_csv)\n",
    "proteinBatchObject = protein_batch(dbObject, logger, crystalplateObject)\n",
    "crystalscreenObject = crystal_screen(settingsObject, dbObject, logger, crystal_plate_template)\n",
    "inspectplateObject = inspect_plate(settingsObject, dbObject, logger)\n",
    "soakplateObject = soak_plate(settingsObject, dbObject, logger)\n",
    "crystalsoakObject = crystal_soak(settingsObject, dbObject, logger)\n",
    "mountedcrystalsObject = mounted_crystals(settingsObject, dbObject, logger)\n",
    "elnObject = eln_entry(settingsObject, logger)"
   ]
  },
  {
   "cell_type": "code",
   "execution_count": 13,
   "metadata": {
    "scrolled": true
   },
   "outputs": [
    {
     "data": {
      "application/vnd.jupyter.widget-view+json": {
       "model_id": "346ea3cf9fc44376b1738a5fcef139b1",
       "version_major": 2,
       "version_minor": 0
      },
      "text/plain": [
       "VBox(children=(HBox(children=(Image(value=b'\\x89PNG\\r\\n\\x1a\\n\\x00\\x00\\x00\\rIHDR\\x00\\x00\\x06\\'\\x00\\x00\\x02\\xae\\…"
      ]
     },
     "metadata": {},
     "output_type": "display_data"
    }
   ],
   "source": [
    "tab0 = VBox(children=[projectObject.grid_widget])\n",
    "tab1 = VBox(children=[proteinBatchObject.top_grid_widget, proteinBatchObject.tab,\n",
    "                     proteinBatchObject.save_batch_to_db_button])\n",
    "tab2 = VBox(children=[crystalscreenObject.grid_widget, HBox([crystalscreenObject.screen_sheet], layout={'height': '250px'}),\n",
    "                      crystalscreenObject.save_screen_to_db_button, crystalscreenObject.crystal_screen_progress ])\n",
    "tab3 = VBox(children=[crystalplateObject.grid_widget_upper, crystalplateObject.grid_widget_lower])\n",
    "tab4 = VBox(children=[inspectplateObject.import_shifter_marked_crystals_button, \n",
    "                      inspectplateObject.inspected_wells_sheet])\n",
    "tab5 = VBox(children=[soakplateObject.grid_widget])\n",
    "tab6 = VBox(children=[crystalsoakObject.grid_widget])\n",
    "tab7 = VBox(children=[mountedcrystalsObject.grid_widget, mountedcrystalsObject.mounted_crystals_sheet], layout = layoutObject.vbox_layout)\n",
    "tab8 = VBox(children=[elnObject.top_grid_widget, elnObject.tab, elnObject.save_eln_entries_to_db_button])\n",
    "\n",
    "tab = widgets.Tab(children=[tab0, tab1, tab2, tab3, tab4, tab5, tab6, tab7, tab8])\n",
    "tab.set_title(0, 'Project Description')\n",
    "tab.set_title(1, 'Protein Batch')\n",
    "tab.set_title(2, 'Crystal Screen')\n",
    "tab.set_title(3, 'Crystal Plate')\n",
    "tab.set_title(4, 'Inspect Plate')\n",
    "tab.set_title(5, 'Soak Plate')\n",
    "tab.set_title(6, 'Crystal Soak')\n",
    "tab.set_title(7, 'Mounted Crystals')\n",
    "tab.set_title(8, 'Diary')\n",
    "VBox(children=[headerObject.logo, tab])\n"
   ]
  },
  {
   "cell_type": "code",
   "execution_count": 11,
   "metadata": {
    "scrolled": true
   },
   "outputs": [
    {
     "data": {
      "application/vnd.jupyter.widget-view+json": {
       "model_id": "d2e9a29648cc47279c61a833c3c45b5e",
       "version_major": 2,
       "version_minor": 0
      },
      "text/plain": [
       "Output(layout=Layout(border='1px solid black', height='160px', width='100%'), outputs=({'name': 'stdout', 'out…"
      ]
     },
     "metadata": {},
     "output_type": "display_data"
    }
   ],
   "source": [
    "handler.show_logs()"
   ]
  },
  {
   "cell_type": "code",
   "execution_count": null,
   "metadata": {},
   "outputs": [],
   "source": []
  }
 ],
 "metadata": {
  "kernelspec": {
   "display_name": "Python 3",
   "language": "python",
   "name": "python3"
  },
  "language_info": {
   "codemirror_mode": {
    "name": "ipython",
    "version": 3
   },
   "file_extension": ".py",
   "mimetype": "text/x-python",
   "name": "python",
   "nbconvert_exporter": "python",
   "pygments_lexer": "ipython3",
   "version": "3.8.5"
  },
  "toc": {
   "base_numbering": 1,
   "nav_menu": {},
   "number_sections": false,
   "sideBar": false,
   "skip_h1_title": false,
   "title_cell": "Table of Contents",
   "title_sidebar": "Contents",
   "toc_cell": false,
   "toc_position": {},
   "toc_section_display": false,
   "toc_window_display": false
  }
 },
 "nbformat": 4,
 "nbformat_minor": 4
}
