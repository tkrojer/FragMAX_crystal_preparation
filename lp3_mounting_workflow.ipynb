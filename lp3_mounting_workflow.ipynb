{
 "cells": [
  {
   "cell_type": "code",
   "execution_count": 1,
   "metadata": {},
   "outputs": [],
   "source": [
    "import ipywidgets as widgets\n",
    "from ipywidgets import HBox, VBox, Layout, IntProgress, Label\n",
    "import os\n",
    "import logging"
   ]
  },
  {
   "cell_type": "code",
   "execution_count": 2,
   "metadata": {},
   "outputs": [],
   "source": [
    "import sys\n",
    "sys.path.append(os.path.join(os.getcwd(), 'lib'))"
   ]
  },
  {
   "cell_type": "code",
   "execution_count": 3,
   "metadata": {},
   "outputs": [],
   "source": [
    "from project_description import project_description\n",
    "from settings import settings\n",
    "from fragmax_logo import page_header\n",
    "from log import OutputWidgetHandler\n",
    "from db_objects import db_objects\n",
    "from crystal_screen import crystal_screen\n",
    "from crystal_plate import crystal_plate\n",
    "from inspect_plate import inspect_plate\n",
    "from soak_plate import soak_plate\n",
    "from crystal_soak import crystal_soak\n",
    "from mounted_crystals import mounted_crystals"
   ]
  },
  {
   "cell_type": "code",
   "execution_count": 4,
   "metadata": {},
   "outputs": [],
   "source": [
    "# qgrid widget is responsible for voila problem\n",
    "# see https://github.com/voila-dashboards/voila/issues/72\n",
    "# the solution is to edit /Applications/anaconda3/share/jupyter/nbextensions/qgrid/index.js and change\n",
    "# define([\"@jupyter-widgets/base\",\"base/js/dialog\"], function(__WEBPACK_EXTERNAL_MODULE_139__,\n",
    "# to\n",
    "# define([\"@jupyter-widgets/base\"], function(__WEBPACK_EXTERNAL_MODULE_139__,\n",
    "#\n",
    "# matplotlib is troublesome on windows as well, but I have not found a solution...\n",
    "#\n",
    "# more qgrid woes\n",
    "# qgrid problem on windows, see: https://github.com/quantopian/qgrid/issues/253\n",
    "# jupyter nbextension enable --py --sys-prefix qgrid\n",
    "# jupyter nbextension enable --py --sys-prefix widgetsnbextension"
   ]
  },
  {
   "cell_type": "code",
   "execution_count": 5,
   "metadata": {},
   "outputs": [],
   "source": [
    "# project folder structure\n",
    "#\n",
    "# example_project/\n",
    "# ├── crystal_images\n",
    "# ├── crystal_screen\n",
    "# ├── database\n",
    "# └── workflow\n",
    "#     ├── 1-inspect\n",
    "#     ├── 2-soak\n",
    "#     └── 3-mount\n",
    "#     └── 4-mount-manual"
   ]
  },
  {
   "cell_type": "code",
   "execution_count": 6,
   "metadata": {},
   "outputs": [],
   "source": [
    "# Notes about the workflow\n",
    "# 1-inspect\n",
    "# User needs to save csv file after shifter inspection as _inspect.csv\n",
    "# 2-soak\n",
    "# Software writes compound csv plate\n",
    "# In shifter:\n",
    "# Load compound csv\n",
    "# Load inspect csv\n",
    "# Note: shifter software updates csv files on the fly (i.e. this may be relevant for the possible overwriting of the inspect csv file)\n",
    "# Note2: destination information is stored in the compounds plate"
   ]
  },
  {
   "cell_type": "code",
   "execution_count": 7,
   "metadata": {},
   "outputs": [],
   "source": [
    "lp3_project_folder = os.path.join('/Users/tobkro/tmp/jupyter_test')\n",
    "db_template = os.path.join(os.getcwd(),'database', 'fragmax.sqlite')\n",
    "shifter_template = os.path.join(os.getcwd(),'templates','shifter_template.csv')\n",
    "crystal_plate_template = os.path.join(os.getcwd(),'templates','crystal_plate_template.csv')"
   ]
  },
  {
   "cell_type": "code",
   "execution_count": 8,
   "metadata": {},
   "outputs": [],
   "source": [
    "logger = logging.getLogger(__name__)\n",
    "handler = OutputWidgetHandler()\n",
    "handler.setFormatter(logging.Formatter('%(asctime)s - [%(levelname)s] %(message)s'))\n",
    "logger.addHandler(handler)\n",
    "logger.setLevel(logging.INFO)\n",
    "logger.info('starting session')"
   ]
  },
  {
   "cell_type": "code",
   "execution_count": 9,
   "metadata": {},
   "outputs": [],
   "source": [
    "settingsObject = settings()\n",
    "dbObject = db_objects()\n",
    "headerObject = page_header()\n",
    "crystalplateObject = crystal_plate(settingsObject, dbObject, logger)\n",
    "projectObject = project_description(settingsObject, dbObject, crystalplateObject, logger, lp3_project_folder, db_template)\n",
    "crystalscreenObject = crystal_screen(settingsObject, dbObject, logger, crystal_plate_template)\n",
    "inspectplateObject = inspect_plate(settingsObject, dbObject, logger)\n",
    "soakplateObject = soak_plate(settingsObject, dbObject, logger)\n",
    "crystalsoakObject = crystal_soak(settingsObject, dbObject, logger)\n",
    "mountedcrystalsObject = mounted_crystals(settingsObject, dbObject, logger)"
   ]
  },
  {
   "cell_type": "code",
   "execution_count": 12,
   "metadata": {},
   "outputs": [
    {
     "data": {
      "application/vnd.jupyter.widget-view+json": {
       "model_id": "e2cce8dab4b64efe9b989fdadcdfd079",
       "version_major": 2,
       "version_minor": 0
      },
      "text/plain": [
       "VBox(children=(HBox(children=(Image(value=b'\\x89PNG\\r\\n\\x1a\\n\\x00\\x00\\x00\\rIHDR\\x00\\x00\\x06\\'\\x00\\x00\\x02\\xae\\…"
      ]
     },
     "metadata": {},
     "output_type": "display_data"
    }
   ],
   "source": [
    "tab0 = VBox(children=[projectObject.grid_widget])\n",
    "tab1 = VBox(children=[crystalscreenObject.grid_widget, HBox([crystalscreenObject.screen_sheet], layout={'height': '250px'}),\n",
    "                      crystalscreenObject.save_screen_to_db_button, crystalscreenObject.crystal_screen_progress ])\n",
    "tab2 = VBox(children=[crystalplateObject.grid_widget_upper, crystalplateObject.grid_widget_lower])\n",
    "tab3 = VBox(children=[inspectplateObject.import_shifter_marked_crystals_button, \n",
    "                      inspectplateObject.inspected_wells_sheet])\n",
    "tab4 = VBox(children=[soakplateObject.grid_widget])\n",
    "tab5 = VBox(children=[crystalsoakObject.grid_widget])\n",
    "\n",
    "tab = widgets.Tab(children=[tab0, tab1, tab2, tab3, tab4, tab5])\n",
    "tab.set_title(0, 'Project Description')\n",
    "tab.set_title(1, 'Crystal Screen')\n",
    "tab.set_title(2, 'Crystal Plate')\n",
    "tab.set_title(3, 'Inspect Plate')\n",
    "tab.set_title(4, 'Soak Plate')\n",
    "tab.set_title(5, 'Crystal Soak')\n",
    "tab.set_title(6, 'Mounted Crystals')\n",
    "VBox(children=[headerObject.logo, tab])\n"
   ]
  },
  {
   "cell_type": "code",
   "execution_count": 11,
   "metadata": {},
   "outputs": [
    {
     "data": {
      "application/vnd.jupyter.widget-view+json": {
       "model_id": "7e85ccd4faa3444a9397ff8868539a44",
       "version_major": 2,
       "version_minor": 0
      },
      "text/plain": [
       "Output(layout=Layout(border='1px solid black', height='160px', width='100%'), outputs=({'name': 'stdout', 'out…"
      ]
     },
     "metadata": {},
     "output_type": "display_data"
    }
   ],
   "source": [
    "handler.show_logs()"
   ]
  },
  {
   "cell_type": "code",
   "execution_count": null,
   "metadata": {},
   "outputs": [],
   "source": []
  }
 ],
 "metadata": {
  "kernelspec": {
   "display_name": "Python 3",
   "language": "python",
   "name": "python3"
  },
  "language_info": {
   "codemirror_mode": {
    "name": "ipython",
    "version": 3
   },
   "file_extension": ".py",
   "mimetype": "text/x-python",
   "name": "python",
   "nbconvert_exporter": "python",
   "pygments_lexer": "ipython3",
   "version": "3.8.8"
  },
  "toc": {
   "base_numbering": 1,
   "nav_menu": {},
   "number_sections": false,
   "sideBar": false,
   "skip_h1_title": false,
   "title_cell": "Table of Contents",
   "title_sidebar": "Contents",
   "toc_cell": false,
   "toc_position": {},
   "toc_section_display": false,
   "toc_window_display": false
  }
 },
 "nbformat": 4,
 "nbformat_minor": 4
}
